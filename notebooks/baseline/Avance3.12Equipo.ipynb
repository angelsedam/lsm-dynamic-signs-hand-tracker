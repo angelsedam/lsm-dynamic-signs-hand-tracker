{
  "cells": [
    {
      "cell_type": "markdown",
      "id": "2R-_icGFc4bZ",
      "metadata": {
        "id": "2R-_icGFc4bZ"
      },
      "source": [
        "## **MASTER'S DEGREE IN APPLIED ARTIFICIAL INTELLIGENCE.**\n",
        "\n",
        "**Course:** TC5035.10 - Integration project\n",
        "\n",
        "**Tecnológico de Monterrey**\n",
        "\n",
        "**Professor:** Dra. Grettel Barceló Alonso\n",
        "\n",
        "**Provessor:** Dr. Luis Eduardo Falcón Morales\n",
        "\n",
        "**Advisory Professor:** María de la Paz Rico Fernández\n",
        "\n",
        "### **Week 5, Activity 3**\n",
        "\n",
        "Baseline\n",
        "\n",
        "###**Team 12:**\n",
        "\n",
        "Luis Ángel Seda Marcos\n",
        "A01795301@tec.mx\n",
        "\n",
        "Christopher Flores González\n",
        "A01795419@tec.mx\n",
        "\n",
        "Luis Felipe Nicanor Gutiérrez\n",
        "A01795631@tec.mx"
      ]
    },
    {
      "cell_type": "markdown",
      "id": "sW2CKTHOGycI",
      "metadata": {
        "id": "sW2CKTHOGycI"
      },
      "source": [
        "# Baseline SVC Model for LSM Dynamic Signs Recognition\n",
        "\n",
        "This notebook implements a baseline Support Vector Classifier (SVC)\n",
        "to classify dynamic signs from the Mexican Sign Language (LSM) dataset.  \n",
        "\n",
        "The main goals are:\n",
        "- Load and preprocess the dataset\n",
        "- Train a baseline SVC model\n",
        "- Evaluate performance with accuracy and confusion matrix\n",
        "- Provide a reproducible workflow for future model comparisons"
      ]
    },
    {
      "cell_type": "markdown",
      "id": "QTmebugPdSDv",
      "metadata": {
        "id": "QTmebugPdSDv"
      },
      "source": [
        "# BASELINE MODEL - FEASIBILITY EVALUATION\n",
        "\n",
        "This script builds a baseline model to evaluate the feasibility of the problem\n",
        "according to the academic rubric. It includes:\n",
        "1. Justification of the baseline algorithm.\n",
        "2. Feature selection and importance.\n",
        "3. Underfitting/overfitting analysis.\n",
        "4. Selection of evaluation metric.\n",
        "5. Establishment of minimum performance."
      ]
    },
    {
      "cell_type": "markdown",
      "id": "3rODRv4FHogT",
      "metadata": {
        "id": "3rODRv4FHogT"
      },
      "source": [
        "The dataset contains extracted features from dynamic hand signs. Each row represents one sample with multiple features and a target label."
      ]
    },
    {
      "cell_type": "code",
      "execution_count": 1,
      "id": "ZJSHMlLhd4kz",
      "metadata": {
        "colab": {
          "base_uri": "https://localhost:8080/"
        },
        "id": "ZJSHMlLhd4kz",
        "outputId": "6f172f56-5318-4a89-d7af-6ddc24eeced1"
      },
      "outputs": [],
      "source": [
        "#from google.colab import drive\n",
        "#drive.mount('/content/drive')"
      ]
    },
    {
      "cell_type": "code",
      "execution_count": 2,
      "id": "FWBnhSuLdbV0",
      "metadata": {
        "id": "FWBnhSuLdbV0"
      },
      "outputs": [],
      "source": [
        "# ============================================================\n",
        "# 1. Importing libraries\n",
        "# ============================================================\n",
        "import pandas as pd\n",
        "import numpy as np\n",
        "import matplotlib.pyplot as plt\n",
        "import seaborn as sns\n",
        "from sklearn.model_selection import train_test_split, learning_curve\n",
        "from sklearn.preprocessing import LabelEncoder, StandardScaler\n",
        "from sklearn.metrics import accuracy_score, classification_report, confusion_matrix\n",
        "from sklearn.linear_model import LogisticRegression\n",
        "from sklearn.ensemble import RandomForestClassifier\n",
        "from sklearn.feature_selection import SelectKBest, f_classif\n",
        "from sklearn.svm import SVC\n",
        "from sklearn.neural_network import MLPClassifier"
      ]
    },
    {
      "cell_type": "code",
      "execution_count": 3,
      "id": "yGhKRWUNdlre",
      "metadata": {
        "id": "yGhKRWUNdlre"
      },
      "outputs": [],
      "source": [
        "# ============================================================\n",
        "# 2. Dataset selection\n",
        "# ============================================================\n",
        "# df = pd.read_csv('../../src/files/clips_features_flattened_pca.csv')\n",
        "df = pd.read_csv('../../src/files/clips_features_flattened_pca.csv')"
      ]
    },
    {
      "cell_type": "code",
      "execution_count": 4,
      "id": "PEHZrXjEgzhR",
      "metadata": {
        "id": "PEHZrXjEgzhR"
      },
      "outputs": [],
      "source": [
        "# ============================================================\n",
        "# 3. Features (X) y Labels (y)\n",
        "# ============================================================\n",
        "y = df[\"class_id\"].values\n",
        "X = df.drop(columns=[\n",
        "    \"class_id\", \"clip_id\", \"signer_id\", \"view\", \"repetition\", \"path\",\n",
        "    \"split\", \"fps\", \"n_frames\", \"duration\", \"width\", \"height\", \"file_size\",\n",
        "    \"brightness_mean\", \"brightness_std\", \"blur_mean\", \"frame_id\"\n",
        "], errors=\"ignore\")\n",
        "\n",
        "# Scaling\n",
        "scaler = StandardScaler()\n",
        "X_scaled = scaler.fit_transform(X)\n",
        "\n",
        "# Label encoding\n",
        "le = LabelEncoder()\n",
        "y_enc = le.fit_transform(y)\n",
        "\n",
        "# Split\n",
        "X_train, X_test, y_train, y_test = train_test_split(\n",
        "    X_scaled, y_enc, test_size=0.2, random_state=42, stratify=y_enc\n",
        ")"
      ]
    },
    {
      "cell_type": "code",
      "execution_count": 5,
      "id": "pUTDZ8UWhATP",
      "metadata": {
        "colab": {
          "base_uri": "https://localhost:8080/"
        },
        "id": "pUTDZ8UWhATP",
        "outputId": "0babfdda-4232-475f-b7c2-682479f522e1"
      },
      "outputs": [
        {
          "name": "stdout",
          "output_type": "stream",
          "text": [
            "\n",
            "=== Baseline: Support Vector Classifier (SVC) ===\n",
            "Accuracy: 0.8333333333333334\n",
            "              precision    recall  f1-score   support\n",
            "\n",
            "           J       1.00      0.93      0.96        41\n",
            "           K       1.00      0.68      0.81        38\n",
            "           Q       0.84      0.75      0.79        36\n",
            "           X       0.97      0.86      0.91        35\n",
            "           Z       1.00      0.77      0.87        35\n",
            "           Ñ       0.54      1.00      0.70        37\n",
            "\n",
            "    accuracy                           0.83       222\n",
            "   macro avg       0.89      0.83      0.84       222\n",
            "weighted avg       0.89      0.83      0.84       222\n",
            "\n"
          ]
        }
      ],
      "source": [
        "# ============================================================\n",
        "# 4. JUSTIFICATION OF THE BASELINE ALGORITHM\n",
        "# ============================================================\n",
        "\"\"\"\n",
        "We used **Support Vector Classifier (SVC)** as a baseline because:\n",
        "- SVC focuses on the points near the decision boundary.\n",
        "- Effectiveness in high-dimensional spaces, which can be the case with features extracted from dynamic landmarks.\n",
        "\n",
        "\"\"\"\n",
        "model_baseline = SVC()\n",
        "model_baseline.fit(X_train, y_train)\n",
        "y_pred = model_baseline.predict(X_test)\n",
        "\n",
        "print(\"\\n=== Baseline: Support Vector Classifier (SVC) ===\")\n",
        "print(\"Accuracy:\", accuracy_score(y_test, y_pred))\n",
        "print(classification_report(y_test, y_pred, target_names=le.classes_))"
      ]
    },
    {
      "cell_type": "markdown",
      "id": "DbR-nIhiom-e",
      "metadata": {
        "id": "DbR-nIhiom-e"
      },
      "source": [
        "The main conclusions drawn from the classification report are presented below:\n",
        "\n",
        "Overall Performance\n",
        "\n",
        "\n",
        "\n",
        "1.   **The overall accuracy is 83%**\n",
        "The macro and weighted averages for precision, recall, and F1-score are all approximately 0.83, indicating balanced performance across all classes.\n",
        "Perfectly Classified Classes\n",
        "\n",
        "2.   **J, obtained almost perfect scores** (precision, recall, and F1 very close to 1.00)\n",
        "High-Performing Classes (F1 ≥ 0.95)\n",
        "\n",
        "3.   **Ñ and Q have recall below .80**, indicating some confusion with neighboring classes.\n",
        "Classes Needing Improvement"
      ]
    },
    {
      "cell_type": "code",
      "execution_count": 6,
      "id": "TeIQrezehCQ6",
      "metadata": {
        "colab": {
          "base_uri": "https://localhost:8080/",
          "height": 819
        },
        "id": "TeIQrezehCQ6",
        "outputId": "77bc5019-42f5-41c6-81e6-215dac8233ad"
      },
      "outputs": [
        {
          "name": "stdout",
          "output_type": "stream",
          "text": [
            "\n",
            "=== Most relevant features ===\n",
            "   Feature       Score\n",
            "5    PCA_6  176.505589\n",
            "1    PCA_2  114.718452\n",
            "3    PCA_4  105.953243\n",
            "6    PCA_7   65.567693\n",
            "8    PCA_9   41.690096\n",
            "2    PCA_3   40.522554\n",
            "12  PCA_13   27.198556\n",
            "7    PCA_8   23.166710\n",
            "11  PCA_12   19.145687\n",
            "4    PCA_5   18.717549\n"
          ]
        },
        {
          "name": "stderr",
          "output_type": "stream",
          "text": [
            "C:\\Users\\Angel\\AppData\\Local\\Temp\\ipykernel_36720\\637108321.py:19: FutureWarning: \n",
            "\n",
            "Passing `palette` without assigning `hue` is deprecated and will be removed in v0.14.0. Assign the `y` variable to `hue` and set `legend=False` for the same effect.\n",
            "\n",
            "  sns.barplot(data=feature_scores, x='Score', y='Feature', palette='viridis')\n"
          ]
        },
        {
          "data": {
            "image/png": "[encoded data removed]",
            "text/plain": [
              "<Figure size 1000x500 with 1 Axes>"
            ]
          },
          "metadata": {},
          "output_type": "display_data"
        }
      ],
      "source": [
        "# ============================================================\n",
        "# 5. ANALYSIS OF IMPORTANT FEATURES\n",
        "# ============================================================\n",
        "\"\"\"\n",
        "We use a 'filter' method (SelectKBest) and the regression coefficient.\n",
        "\"\"\"\n",
        "selector = SelectKBest(score_func=f_classif, k=10)\n",
        "selector.fit(X_train, y_train)\n",
        "feature_scores = pd.DataFrame({\n",
        "    'Feature': X.columns,\n",
        "    'Score': selector.scores_\n",
        "}).sort_values(by='Score', ascending=False).head(10)\n",
        "\n",
        "print(\"\\n=== Most relevant features ===\")\n",
        "print(feature_scores)\n",
        "\n",
        "# Visualization\n",
        "plt.figure(figsize=(10,5))\n",
        "sns.barplot(data=feature_scores, x='Score', y='Feature', palette='viridis')\n",
        "plt.title(\"Top 10 Most relevant features (ANOVA F-test)\")\n",
        "plt.show()"
      ]
    },
    {
      "cell_type": "code",
      "execution_count": 7,
      "id": "9F3l50YvhJA8",
      "metadata": {
        "colab": {
          "base_uri": "https://localhost:8080/",
          "height": 522
        },
        "id": "9F3l50YvhJA8",
        "outputId": "6a112804-5e06-474d-ae31-cfe0163e9306"
      },
      "outputs": [
        {
          "data": {
            "image/png": "[encoded data removed]",
            "text/plain": [
              "<Figure size 800x500 with 1 Axes>"
            ]
          },
          "metadata": {},
          "output_type": "display_data"
        },
        {
          "name": "stdout",
          "output_type": "stream",
          "text": [
            "\n",
            " Signs of overfitting: training accuracy is much higher than validation accuracy.\n"
          ]
        }
      ],
      "source": [
        "# ============================================================\n",
        "# 6. DETECTION OF UNDERFITTING/OVERFITTING\n",
        "# ============================================================\n",
        "\"\"\"\n",
        "We analyze learning curves (train vs validation score).\n",
        "\"\"\"\n",
        "train_sizes, train_scores, val_scores = learning_curve(\n",
        "    model_baseline, X_scaled, y_enc, cv=5, scoring='accuracy',\n",
        "    train_sizes=np.linspace(0.1, 1.0, 10)\n",
        ")\n",
        "\n",
        "train_mean = np.mean(train_scores, axis=1)\n",
        "val_mean = np.mean(val_scores, axis=1)\n",
        "\n",
        "plt.figure(figsize=(8,5))\n",
        "plt.plot(train_sizes, train_mean, 'o-', label='Training')\n",
        "plt.plot(train_sizes, val_mean, 'o-', label='Validation')\n",
        "plt.title(\"Learning Curves - Detection of Underfitting/Overfitting\")\n",
        "plt.xlabel(\"Training Set Size\")\n",
        "plt.ylabel(\"Accuracy\")\n",
        "plt.legend()\n",
        "plt.show()\n",
        "\n",
        "if abs(train_mean[-1] - val_mean[-1]) > 0.1:\n",
        "    print(\"\\n Signs of overfitting: training accuracy is much higher than validation accuracy.\")\n",
        "else:\n",
        "    print(\"\\n No significant evidence of overfitting.\")"
      ]
    },
    {
      "cell_type": "code",
      "execution_count": 8,
      "id": "E3VuUzrphpeV",
      "metadata": {
        "colab": {
          "base_uri": "https://localhost:8080/",
          "height": 487
        },
        "id": "E3VuUzrphpeV",
        "outputId": "5df155ae-d6fb-49a8-8f75-f24df9fc667d"
      },
      "outputs": [
        {
          "data": {
            "image/png": "[encoded data removed]",
            "text/plain": [
              "<Figure size 600x500 with 2 Axes>"
            ]
          },
          "metadata": {},
          "output_type": "display_data"
        }
      ],
      "source": [
        "# ============================================================\n",
        "# 7. APPROPRIATE METRIC\n",
        "# ============================================================\n",
        "\"\"\"\n",
        "In this case, we use Accuracy, since the\n",
        "classes are balanced and the goal is to correctly classify the sign. If there\n",
        "were imbalance, we would use F1-score or balanced accuracy.\n",
        "\"\"\"\n",
        "\n",
        "# Confusion matrix\n",
        "cm = confusion_matrix(y_test, y_pred)\n",
        "plt.figure(figsize=(6,5))\n",
        "sns.heatmap(cm, cmap=\"Blues\", annot=False)\n",
        "plt.title(\"Confusion Matrix - Baseline\")\n",
        "plt.xlabel(\"Foretold\")\n",
        "plt.ylabel(\"True\")\n",
        "plt.show()"
      ]
    },
    {
      "cell_type": "code",
      "execution_count": 9,
      "id": "k4Q0I5XJhmWD",
      "metadata": {
        "colab": {
          "base_uri": "https://localhost:8080/"
        },
        "id": "k4Q0I5XJhmWD",
        "outputId": "7529f696-32a1-49a4-c814-a37ea8ad2977"
      },
      "outputs": [
        {
          "name": "stdout",
          "output_type": "stream",
          "text": [
            "\n",
            "Random performance: 0.167\n",
            "Baseline model performance: 0.833\n",
            " The problem is feasible: the model significantly outperforms random chance.\n"
          ]
        }
      ],
      "source": [
        "# ============================================================\n",
        "# 8. MINIMUM PERFORMANCE TO ACHIEVE\n",
        "# ============================================================\n",
        "\"\"\"\n",
        "We define the minimum expected\n",
        "performance: - If the baseline (Logistic Regression) achieves accuracy\n",
        "significantly higher than random chance (e.g., >10% if there are 10 classes),\n",
        "the problem is feasible.\n",
        "\"\"\"\n",
        "num_classes = len(le.classes_)\n",
        "baseline_random = 1 / num_classes\n",
        "baseline_acc = accuracy_score(y_test, y_pred)\n",
        "\n",
        "print(f\"\\nRandom performance: {baseline_random:.3f}\")\n",
        "print(f\"Baseline model performance: {baseline_acc:.3f}\")\n",
        "\n",
        "if baseline_acc > baseline_random * 2:\n",
        "    print(\" The problem is feasible: the model significantly outperforms random chance.\")\n",
        "else:\n",
        "    print(\" The problem may be difficult: the model does not outperform random chance.\")"
      ]
    },
    {
      "cell_type": "code",
      "execution_count": 10,
      "id": "27xzTn4kh5cr",
      "metadata": {
        "colab": {
          "base_uri": "https://localhost:8080/"
        },
        "id": "27xzTn4kh5cr",
        "outputId": "c77a5bb8-f949-4cd9-c1b2-aba2b9a98871"
      },
      "outputs": [
        {
          "name": "stdout",
          "output_type": "stream",
          "text": [
            "\n",
            "=== Comparison with a more complex model (Random Forest) ===\n",
            "Accuracy: 0.9459459459459459\n"
          ]
        }
      ],
      "source": [
        "# ============================================================\n",
        "# 9. OPTIONAL: Comparison with a more complex model\n",
        "# ============================================================\n",
        "rf = RandomForestClassifier(n_estimators=100, random_state=42)\n",
        "rf.fit(X_train, y_train)\n",
        "rf_pred = rf.predict(X_test)\n",
        "print(\"\\n=== Comparison with a more complex model (Random Forest) ===\")\n",
        "print(\"Accuracy:\", accuracy_score(y_test, rf_pred))"
      ]
    },
    {
      "cell_type": "markdown",
      "id": "w9tdQTbKKR_0",
      "metadata": {
        "id": "w9tdQTbKKR_0"
      },
      "source": [
        "# Conclusion\n",
        "\n",
        "- The baseline SVC provides an initial benchmark for LSM dynamic sign recognition.\n",
        "- Accuracy and confusion matrix highlight strengths and weaknesses.\n",
        "- Future work:\n",
        "  - Hyperparameter tuning (C, gamma, kernel)\n",
        "  - Feature engineering\n",
        "  - Comparison with deep learning models (LSTM, GRU, CNN)\n",
        "\n",
        "\n",
        "\n",
        "*   **What algorithm can be used as a baseline to predict the target variables?**\n",
        "\n",
        "As implemented in the code, the Support Vector Classifier (SVC) is used as the baseline algorithm.\n",
        "\n",
        "*   **Can the importance of features for the generated model be determined?**\n",
        "\n",
        "Yes, the importance of features can be determined using methods like SelectKBest with ANOVA F-test, as shown in the notebook. The top 10 most relevant features are listed in the output, indicating which PCA components are most discriminative for the classes.\n",
        "\n",
        "*   **Is the model under- or overfitting the training data?**\n",
        "\n",
        "The learning curves indicate signs of overfitting, as the training accuracy is significantly higher than the validation accuracy.\n",
        "\n",
        "*   **What is the appropriate metric for this business problem?**\n",
        "\n",
        "Accuracy is used as the appropriate metric because the classes are balanced and the goal is to correctly classify the sign. If there were class imbalance, F1-score or balanced accuracy would be more suitable. The confusion matrix also provides a detailed view of the model's performance on each class.\n",
        "\n",
        "*   **What should be the minimum performance to be achieved?**\n",
        "\n",
        "The minimum performance to be achieved is significantly higher than random chance. With 6 classes, random performance is 0.167, and the baseline SVC model achieved an accuracy of 0.83, indicating the problem is feasible and the model significantly outperforms random chance."
      ]
    }
  ],
  "metadata": {
    "colab": {
      "provenance": []
    },
    "kernelspec": {
      "display_name": "Python 3",
      "language": "python",
      "name": "python3"
    },
    "language_info": {
      "codemirror_mode": {
        "name": "ipython",
        "version": 3
      },
      "file_extension": ".py",
      "mimetype": "text/x-python",
      "name": "python",
      "nbconvert_exporter": "python",
      "pygments_lexer": "ipython3",
      "version": "3.13.3"
    }
  },
  "nbformat": 4,
  "nbformat_minor": 5
}
