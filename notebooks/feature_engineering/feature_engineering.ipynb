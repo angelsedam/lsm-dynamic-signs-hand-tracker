{
  "cells": [
    {
      "cell_type": "markdown",
      "source": [
        "## **MASTER'S DEGREE IN APPLIED ARTIFICIAL INTELLIGENCE.**\n",
        "\n",
        "**Course:** TC5035.10 - Integration project\n",
        "\n",
        "**Tecnológico de Monterrey**\n",
        "\n",
        "**Professor:** Dra. Grettel Barceló Alonso\n",
        "\n",
        "**Provessor:** Dr. Luis Eduardo Falcón Morales\n",
        "\n",
        "**Advisory Professor:** María de la Paz Rico Fernández\n",
        "\n",
        "### **Week 4, Activity 2**\n",
        "\n",
        "FE - Feature Engineering\n",
        "\n",
        "###**Team 12:**\n",
        "\n",
        "Luis Ángel Seda Marcos\n",
        "A01795301@tec.mx\n",
        "\n",
        "Christopher Flores González\n",
        "A01795419@tec.mx\n",
        "\n",
        "Luis Felipe Nicanor Gutiérrez\n",
        "A01795631@tec.mx"
      ],
      "metadata": {
        "id": "Pj3D5U6vA8TL"
      },
      "id": "Pj3D5U6vA8TL"
    },
    {
      "cell_type": "code",
      "execution_count": null,
      "id": "23526b47",
      "metadata": {
        "id": "23526b47",
        "outputId": "f4c977b4-00af-49cb-8573-c7b9510e6a04"
      },
      "outputs": [
        {
          "name": "stdout",
          "output_type": "stream",
          "text": [
            "Requirement already satisfied: scikit-learn in c:\\users\\angel\\appdata\\local\\programs\\python\\python312\\lib\\site-packages (1.7.2)\n",
            "Requirement already satisfied: numpy>=1.22.0 in c:\\users\\angel\\appdata\\local\\programs\\python\\python312\\lib\\site-packages (from scikit-learn) (2.3.3)\n",
            "Requirement already satisfied: scipy>=1.8.0 in c:\\users\\angel\\appdata\\local\\programs\\python\\python312\\lib\\site-packages (from scikit-learn) (1.16.2)\n",
            "Requirement already satisfied: joblib>=1.2.0 in c:\\users\\angel\\appdata\\local\\programs\\python\\python312\\lib\\site-packages (from scikit-learn) (1.5.2)\n",
            "Requirement already satisfied: threadpoolctl>=3.1.0 in c:\\users\\angel\\appdata\\local\\programs\\python\\python312\\lib\\site-packages (from scikit-learn) (3.6.0)\n"
          ]
        },
        {
          "name": "stderr",
          "output_type": "stream",
          "text": [
            "\n",
            "[notice] A new release of pip is available: 24.2 -> 25.2\n",
            "[notice] To update, run: C:\\Users\\Angel\\AppData\\Local\\Programs\\Python\\Python312\\python.exe -m pip install --upgrade pip\n"
          ]
        }
      ],
      "source": [
        "# Installing scikit-learn to ensure required preprocessing and dimensionality reduction tools are available.\n",
        "\n",
        "!pip install scikit-learn"
      ]
    },
    {
      "cell_type": "code",
      "execution_count": null,
      "id": "18ba1ed7",
      "metadata": {
        "id": "18ba1ed7"
      },
      "outputs": [],
      "source": [
        "# Importing essential libraries for data manipulation, visualization, and feature engineering.\n",
        "# pandas and numpy for data handling\n",
        "# sklearn for scaling and PCA\n",
        "# matplotlib and seaborn for plotting\n",
        "import pandas as pd\n",
        "import numpy as np\n",
        "from sklearn.preprocessing import StandardScaler\n",
        "import matplotlib.pyplot as plt\n",
        "import seaborn as sns\n",
        "from sklearn.decomposition import PCA"
      ]
    },
    {
      "cell_type": "markdown",
      "source": [
        "## Introduction\n",
        "\n",
        "This notebook focuses on the feature engineering phase of a machine learning project, following the CRISP-ML methodology. The process involves:\n",
        "\n",
        "*   **Loading the dataset**: The initial data containing clips features is loade that was generated during our EDA.\n",
        "*   **Standardization**: Landmark coordinates are standardized to ensure all features are on a similar scale, which is crucial for many machine learning algorithms.\n",
        "*   **Structuring the data**: The data is restructured to have a fixed number of frames (120) per clip, either by repeating the last frame for shorter clips or truncating longer ones.\n",
        "*   **Flattening the data**: The frame-based landmark data is flattened into a single row per clip, preparing it for subsequent analysis or modeling.\n",
        "*   **Dimensionality Reduction (PCA)**: Principal Component Analysis is applied to reduce the dimensionality of the flattened landmark data, mitigating the curse of dimensionality and potentially improving model performance."
      ],
      "metadata": {
        "id": "6f7odxHiHt7Z"
      },
      "id": "6f7odxHiHt7Z"
    },
    {
      "cell_type": "code",
      "execution_count": null,
      "id": "c52d8d1b",
      "metadata": {
        "id": "c52d8d1b"
      },
      "outputs": [],
      "source": [
        "# Loading the extracted features from dynamic sign language clips.\n",
        "# This dataset includes metadata and 3D hand landmark coordinates.\n",
        "clips_features_df = pd.read_csv('../../src/files/clips_features.csv')\n"
      ]
    },
    {
      "cell_type": "code",
      "execution_count": null,
      "id": "a2b91f10",
      "metadata": {
        "id": "a2b91f10",
        "outputId": "a48236d5-1eff-42f2-8b7c-10509291086a"
      },
      "outputs": [
        {
          "name": "stdout",
          "output_type": "stream",
          "text": [
            "          clip_id class_id signer_id     view  repetition  \\\n",
            "0  S1-J-frontal-1        J        S1  frontal           1   \n",
            "1  S1-J-frontal-1        J        S1  frontal           1   \n",
            "2  S1-J-frontal-1        J        S1  frontal           1   \n",
            "3  S1-J-frontal-1        J        S1  frontal           1   \n",
            "4  S1-J-frontal-1        J        S1  frontal           1   \n",
            "\n",
            "                                                path  split   fps  n_frames  \\\n",
            "0  ..\\..\\src\\datasets\\MSL-dynamic-signs\\train\\S1-...  train  30.0        62   \n",
            "1  ..\\..\\src\\datasets\\MSL-dynamic-signs\\train\\S1-...  train  30.0        62   \n",
            "2  ..\\..\\src\\datasets\\MSL-dynamic-signs\\train\\S1-...  train  30.0        62   \n",
            "3  ..\\..\\src\\datasets\\MSL-dynamic-signs\\train\\S1-...  train  30.0        62   \n",
            "4  ..\\..\\src\\datasets\\MSL-dynamic-signs\\train\\S1-...  train  30.0        62   \n",
            "\n",
            "   duration  ...      z_17      x_18      y_18      z_18      x_19      y_19  \\\n",
            "0  2.066667  ...  0.010676  0.533660  0.346997  0.000967  0.521835  0.319036   \n",
            "1  2.066667  ...  0.011798  0.528062  0.343037  0.004118  0.519707  0.315460   \n",
            "2  2.066667  ...  0.011136  0.526510  0.345813  0.004357  0.519509  0.317497   \n",
            "3  2.066667  ...  0.009175  0.528678  0.343151  0.001211  0.518842  0.316366   \n",
            "4  2.066667  ...  0.009973  0.527334  0.344042  0.003213  0.519742  0.316880   \n",
            "\n",
            "       z_19      x_20      y_20      z_20  \n",
            "0 -0.004663  0.515006  0.294339 -0.005247  \n",
            "1 -0.000099  0.517345  0.293597  0.001105  \n",
            "2  0.001017  0.519759  0.293088  0.002298  \n",
            "3 -0.002252  0.516325  0.294091 -0.000896  \n",
            "4 -0.000408  0.519565  0.293297  0.000222  \n",
            "\n",
            "[5 rows x 80 columns]\n"
          ]
        }
      ],
      "source": [
        "\n",
        "# Displaying the first few rows to understand the structure and verify successful loading.\n",
        "print(clips_features_df.head())\n"
      ]
    },
    {
      "cell_type": "code",
      "execution_count": null,
      "id": "96953f52",
      "metadata": {
        "id": "96953f52",
        "outputId": "7db071ae-899d-4676-e715-2217a3d96a7a"
      },
      "outputs": [
        {
          "name": "stdout",
          "output_type": "stream",
          "text": [
            "<class 'pandas.core.frame.DataFrame'>\n",
            "RangeIndex: 84347 entries, 0 to 84346\n",
            "Data columns (total 80 columns):\n",
            " #   Column           Non-Null Count  Dtype  \n",
            "---  ------           --------------  -----  \n",
            " 0   clip_id          84347 non-null  object \n",
            " 1   class_id         84347 non-null  object \n",
            " 2   signer_id        84347 non-null  object \n",
            " 3   view             84347 non-null  object \n",
            " 4   repetition       84347 non-null  int64  \n",
            " 5   path             84347 non-null  object \n",
            " 6   split            84347 non-null  object \n",
            " 7   fps              84347 non-null  float64\n",
            " 8   n_frames         84347 non-null  int64  \n",
            " 9   duration         84347 non-null  float64\n",
            " 10  width            84347 non-null  int64  \n",
            " 11  height           84347 non-null  int64  \n",
            " 12  file_size        84347 non-null  int64  \n",
            " 13  brightness_mean  84347 non-null  float64\n",
            " 14  brightness_std   84347 non-null  float64\n",
            " 15  blur_mean        84347 non-null  float64\n",
            " 16  frame_id         84347 non-null  float64\n",
            " 17  x_0              84347 non-null  float64\n",
            " 18  y_0              84347 non-null  float64\n",
            " 19  z_0              84347 non-null  float64\n",
            " 20  x_1              84347 non-null  float64\n",
            " 21  y_1              84347 non-null  float64\n",
            " 22  z_1              84347 non-null  float64\n",
            " 23  x_2              84347 non-null  float64\n",
            " 24  y_2              84347 non-null  float64\n",
            " 25  z_2              84347 non-null  float64\n",
            " 26  x_3              84347 non-null  float64\n",
            " 27  y_3              84347 non-null  float64\n",
            " 28  z_3              84347 non-null  float64\n",
            " 29  x_4              84347 non-null  float64\n",
            " 30  y_4              84347 non-null  float64\n",
            " 31  z_4              84347 non-null  float64\n",
            " 32  x_5              84347 non-null  float64\n",
            " 33  y_5              84347 non-null  float64\n",
            " 34  z_5              84347 non-null  float64\n",
            " 35  x_6              84347 non-null  float64\n",
            " 36  y_6              84347 non-null  float64\n",
            " 37  z_6              84347 non-null  float64\n",
            " 38  x_7              84347 non-null  float64\n",
            " 39  y_7              84347 non-null  float64\n",
            " 40  z_7              84347 non-null  float64\n",
            " 41  x_8              84347 non-null  float64\n",
            " 42  y_8              84347 non-null  float64\n",
            " 43  z_8              84347 non-null  float64\n",
            " 44  x_9              84347 non-null  float64\n",
            " 45  y_9              84347 non-null  float64\n",
            " 46  z_9              84347 non-null  float64\n",
            " 47  x_10             84347 non-null  float64\n",
            " 48  y_10             84347 non-null  float64\n",
            " 49  z_10             84347 non-null  float64\n",
            " 50  x_11             84347 non-null  float64\n",
            " 51  y_11             84347 non-null  float64\n",
            " 52  z_11             84347 non-null  float64\n",
            " 53  x_12             84347 non-null  float64\n",
            " 54  y_12             84347 non-null  float64\n",
            " 55  z_12             84347 non-null  float64\n",
            " 56  x_13             84347 non-null  float64\n",
            " 57  y_13             84347 non-null  float64\n",
            " 58  z_13             84347 non-null  float64\n",
            " 59  x_14             84347 non-null  float64\n",
            " 60  y_14             84347 non-null  float64\n",
            " 61  z_14             84347 non-null  float64\n",
            " 62  x_15             84347 non-null  float64\n",
            " 63  y_15             84347 non-null  float64\n",
            " 64  z_15             84347 non-null  float64\n",
            " 65  x_16             84347 non-null  float64\n",
            " 66  y_16             84347 non-null  float64\n",
            " 67  z_16             84347 non-null  float64\n",
            " 68  x_17             84347 non-null  float64\n",
            " 69  y_17             84347 non-null  float64\n",
            " 70  z_17             84347 non-null  float64\n",
            " 71  x_18             84347 non-null  float64\n",
            " 72  y_18             84347 non-null  float64\n",
            " 73  z_18             84347 non-null  float64\n",
            " 74  x_19             84347 non-null  float64\n",
            " 75  y_19             84347 non-null  float64\n",
            " 76  z_19             84347 non-null  float64\n",
            " 77  x_20             84347 non-null  float64\n",
            " 78  y_20             84347 non-null  float64\n",
            " 79  z_20             84347 non-null  float64\n",
            "dtypes: float64(69), int64(5), object(6)\n",
            "memory usage: 51.5+ MB\n",
            "None\n"
          ]
        }
      ],
      "source": [
        "# Checking data types and null values to assess data quality and completeness.\n",
        "print(clips_features_df.info())"
      ]
    },
    {
      "cell_type": "markdown",
      "source": [
        "# **Step 1:** Normalize all landmark coordinates (x, y, z) to standardize scale across features.\n",
        "This step ensures that the coordinates are in the correct range for any subsequent models."
      ],
      "metadata": {
        "id": "u2hUD-2PBgBi"
      },
      "id": "u2hUD-2PBgBi"
    },
    {
      "cell_type": "code",
      "execution_count": null,
      "id": "217d21f1",
      "metadata": {
        "id": "217d21f1"
      },
      "outputs": [],
      "source": [
        "scaler = StandardScaler()"
      ]
    },
    {
      "cell_type": "code",
      "execution_count": null,
      "id": "7611aecb",
      "metadata": {
        "id": "7611aecb"
      },
      "outputs": [],
      "source": [
        "# Selecting all landmark coordinate columns for normalization (21 landmarks).\n",
        "landmark_columns = [f'x_{i}' for i in range(21)] + [f'y_{i}' for i in range(21)] + [f'z_{i}' for i in range(21)]\n"
      ]
    },
    {
      "cell_type": "markdown",
      "source": [
        "## Standard Scaling Landmark Coordinates\n",
        "\n",
        "Standard scaling (using `StandardScaler`) was applied to all landmark coordinate columns (x, y, and z for each of the 21 landmarks) to ensure consistent feature ranges for modeling. This decision was made for several important reasons:\n",
        "\n",
        "1.  **Algorithm Sensitivity**: Many machine learning algorithms, especially those based on distance calculations (like K-Nearest Neighbors, Support Vector Machines, and algorithms that use gradient descent), are highly sensitive to the scale of the input features. If features have vastly different ranges, those with larger ranges can disproportionately influence the model's results, potentially leading to suboptimal performance.\n",
        "\n",
        "2.  **Equal Feature Contribution**: By standardizing the landmark coordinates to have a mean of 0 and a standard deviation of 1, we ensure that each coordinate (x, y, and z) and each landmark contributes equally to the model, regardless of their original scale. This prevents features with larger numerical values from dominating the learning process.\n",
        "\n",
        "3.  **Improved Convergence**: For iterative optimization algorithms used in many machine learning models, standardizing features can lead to faster convergence to the optimal solution.\n",
        "\n",
        "4.  **Preparation for PCA**: PCA is also sensitive to feature scaling. Standardizing the landmark coordinates before applying PCA ensures that the principal components are influenced by the variance across all features equally, rather than being dominated by features with larger scales.\n",
        "\n",
        "In summary, applying standard scaling to all landmark coordinate columns is a crucial preprocessing step that prepares the data for effective use in various machine learning algorithms by ensuring that all features are on a comparable scale and contribute appropriately to the modeling process."
      ],
      "metadata": {
        "id": "uWRzQ1bFKy7q"
      },
      "id": "uWRzQ1bFKy7q"
    },
    {
      "cell_type": "code",
      "execution_count": null,
      "id": "cd2fc4cd",
      "metadata": {
        "id": "cd2fc4cd"
      },
      "outputs": [],
      "source": [
        "# Applying standard scaling to ensure consistent feature ranges for modeling.\n",
        "clips_features_df[landmark_columns] = scaler.fit_transform(clips_features_df[landmark_columns])\n"
      ]
    },
    {
      "cell_type": "code",
      "execution_count": null,
      "id": "b43229f0",
      "metadata": {
        "id": "b43229f0",
        "outputId": "f7c25dc9-d45e-40ce-d0ff-a1cf0d7c65cd"
      },
      "outputs": [
        {
          "name": "stdout",
          "output_type": "stream",
          "text": [
            "<bound method NDFrame.describe of               clip_id class_id signer_id     view  repetition  \\\n",
            "0      S1-J-frontal-1        J        S1  frontal           1   \n",
            "1      S1-J-frontal-1        J        S1  frontal           1   \n",
            "2      S1-J-frontal-1        J        S1  frontal           1   \n",
            "3      S1-J-frontal-1        J        S1  frontal           1   \n",
            "4      S1-J-frontal-1        J        S1  frontal           1   \n",
            "...               ...      ...       ...      ...         ...   \n",
            "84342   S9-Ñ-perfil-5        Ñ        S9  profile           5   \n",
            "84343   S9-Ñ-perfil-5        Ñ        S9  profile           5   \n",
            "84344   S9-Ñ-perfil-5        Ñ        S9  profile           5   \n",
            "84345   S9-Ñ-perfil-5        Ñ        S9  profile           5   \n",
            "84346   S9-Ñ-perfil-5        Ñ        S9  profile           5   \n",
            "\n",
            "                                                    path  split     fps  \\\n",
            "0      ..\\..\\src\\datasets\\MSL-dynamic-signs\\train\\S1-...  train  30.000   \n",
            "1      ..\\..\\src\\datasets\\MSL-dynamic-signs\\train\\S1-...  train  30.000   \n",
            "2      ..\\..\\src\\datasets\\MSL-dynamic-signs\\train\\S1-...  train  30.000   \n",
            "3      ..\\..\\src\\datasets\\MSL-dynamic-signs\\train\\S1-...  train  30.000   \n",
            "4      ..\\..\\src\\datasets\\MSL-dynamic-signs\\train\\S1-...  train  30.000   \n",
            "...                                                  ...    ...     ...   \n",
            "84342  ..\\..\\src\\datasets\\MSL-dynamic-profile-signs\\Ñ...      Ñ  59.504   \n",
            "84343  ..\\..\\src\\datasets\\MSL-dynamic-profile-signs\\Ñ...      Ñ  59.504   \n",
            "84344  ..\\..\\src\\datasets\\MSL-dynamic-profile-signs\\Ñ...      Ñ  59.504   \n",
            "84345  ..\\..\\src\\datasets\\MSL-dynamic-profile-signs\\Ñ...      Ñ  59.504   \n",
            "84346  ..\\..\\src\\datasets\\MSL-dynamic-profile-signs\\Ñ...      Ñ  59.504   \n",
            "\n",
            "       n_frames  duration  ...      z_17      x_18      y_18      z_18  \\\n",
            "0            62  2.066667  ...  0.858586 -0.225836 -1.433567  1.067742   \n",
            "1            62  2.066667  ...  0.885444 -0.260394 -1.458482  1.143727   \n",
            "2            62  2.066667  ...  0.869594 -0.269980 -1.441020  1.149499   \n",
            "3            62  2.066667  ...  0.822682 -0.256594 -1.457766  1.073634   \n",
            "4            62  2.066667  ...  0.841773 -0.264889 -1.452159  1.121898   \n",
            "...         ...       ...  ...       ...       ...       ...       ...   \n",
            "84342        84  1.411670  ... -0.674647  0.428043  0.203923 -0.705834   \n",
            "84343        84  1.411670  ... -0.749243  0.419920  0.197843 -0.745425   \n",
            "84344        84  1.411670  ... -0.753950  0.416720  0.192346 -0.768942   \n",
            "84345        84  1.411670  ... -0.735842  0.416302  0.182763 -0.768188   \n",
            "84346        84  1.411670  ... -0.762630  0.416367  0.183508 -0.777397   \n",
            "\n",
            "           x_19      y_19      z_19      x_20      y_20      z_20  \n",
            "0     -0.389541 -1.617740  1.013088 -0.472671 -1.727777  0.870486  \n",
            "1     -0.402840 -1.640181  1.138851 -0.457845 -1.732368  1.056946  \n",
            "2     -0.404075 -1.627394  1.169621 -0.442547 -1.735525  1.091979  \n",
            "3     -0.408246 -1.634491  1.079531 -0.464308 -1.729316  0.998218  \n",
            "4     -0.402618 -1.631267  1.130343 -0.443775 -1.734229  1.031011  \n",
            "...         ...       ...       ...       ...       ...       ...  \n",
            "84342  0.494712  0.323593 -0.866899  0.559636  0.382019 -1.022469  \n",
            "84343  0.486982  0.314476 -0.868809  0.555563  0.367980 -0.992691  \n",
            "84344  0.483498  0.312903 -0.923898  0.551235  0.370338 -1.077873  \n",
            "84345  0.479860  0.301688 -0.935106  0.546516  0.356977 -1.093055  \n",
            "84346  0.480631  0.305854 -0.935297  0.546557  0.364586 -1.093441  \n",
            "\n",
            "[84347 rows x 80 columns]>\n"
          ]
        }
      ],
      "source": [
        "print(clips_features_df.describe)"
      ]
    },
    {
      "cell_type": "markdown",
      "source": [
        "# **Step 2:** Restructure landmark coordinates into grouped columns.\n",
        "Each landmark will be represented as a list of [x, y, z]."
      ],
      "metadata": {
        "id": "ODn9Fl7rBpR6"
      },
      "id": "ODn9Fl7rBpR6"
    },
    {
      "cell_type": "code",
      "execution_count": null,
      "id": "024f5c06",
      "metadata": {
        "id": "024f5c06",
        "outputId": "06c665d8-bb18-4fc2-febb-27330c1c80c3"
      },
      "outputs": [
        {
          "name": "stdout",
          "output_type": "stream",
          "text": [
            "                                          landmark_0  \\\n",
            "0  [-0.4736259075945064, -0.22314232696808164, -1...   \n",
            "1  [-0.4680353138670269, -0.21628949270819756, -0...   \n",
            "2  [-0.4610939589800419, -0.19094895108712442, -0...   \n",
            "3  [-0.4747923813878494, -0.1867630933938315, -1....   \n",
            "4  [-0.47446417048129885, -0.18001909874409608, -...   \n",
            "\n",
            "                                          landmark_1  \\\n",
            "0  [-0.387069635037375, -0.2540830944637174, -0.6...   \n",
            "1  [-0.36709137018307314, -0.24998056400889088, -...   \n",
            "2  [-0.3595529483188028, -0.23278045042033704, -0...   \n",
            "3  [-0.3802502490397703, -0.23493335591761128, -0...   \n",
            "4  [-0.3765377089053991, -0.2278799215229258, -0....   \n",
            "\n",
            "                                          landmark_2  \\\n",
            "0  [-0.2830191424270885, -0.4857626616535488, -0....   \n",
            "1  [-0.2670874437487096, -0.5018447661350157, -0....   \n",
            "2  [-0.2710075631499034, -0.49638489769090666, -0...   \n",
            "3  [-0.2791506437944434, -0.4835184407854786, -0....   \n",
            "4  [-0.2763176195412786, -0.48413027357509136, -0...   \n",
            "\n",
            "                                          landmark_3  \\\n",
            "0  [-0.35566073380384583, -0.755669369795009, -0....   \n",
            "1  [-0.3441097858680002, -0.7791391853661241, -0....   \n",
            "2  [-0.3489210594280272, -0.7749862510944029, -0....   \n",
            "3  [-0.351475325755222, -0.7658553048902494, -0.0...   \n",
            "4  [-0.3509925049231665, -0.76555490200905, -0.07...   \n",
            "\n",
            "                                          landmark_4  \\\n",
            "0  [-0.43780176953444694, -0.9018050340489289, 0....   \n",
            "1  [-0.4269231268005042, -0.9159326210061987, 0.1...   \n",
            "2  [-0.43977743893665394, -0.9132687458287759, 0....   \n",
            "3  [-0.44237479383763734, -0.9091287928552841, 0....   \n",
            "4  [-0.4438550949483976, -0.904489632587124, 0.15...   \n",
            "\n",
            "                                          landmark_5  \\\n",
            "0  [0.30765170451035756, -0.6823463404060957, 0.7...   \n",
            "1  [0.290684405118685, -0.6982971136317034, 0.955...   \n",
            "2  [0.27795847051713923, -0.705191174620682, 0.94...   \n",
            "3  [0.27601076985162804, -0.6840510363138146, 0.9...   \n",
            "4  [0.27126113321360423, -0.6923640863499274, 1.0...   \n",
            "\n",
            "                                          landmark_6  \\\n",
            "0  [0.1476048516530068, -0.98597703412306, 0.6241...   \n",
            "1  [0.13793291754274162, -1.0074066404380837, 0.8...   \n",
            "2  [0.13245688854811866, -1.0138482846511732, 0.8...   \n",
            "3  [0.1326568549470063, -1.0073824464692087, 0.85...   \n",
            "4  [0.13549061606751397, -1.0084774251772302, 0.9...   \n",
            "\n",
            "                                          landmark_7  \\\n",
            "0  [0.03858988674229264, -0.7999723161204739, 0.5...   \n",
            "1  [0.040146287848371015, -0.8214758271922957, 0....   \n",
            "2  [0.044080461566086554, -0.8137597095606569, 0....   \n",
            "3  [0.036753596635492394, -0.8252454505205773, 0....   \n",
            "4  [0.037480601895394955, -0.825180410151038, 0.8...   \n",
            "\n",
            "                                          landmark_8  \\\n",
            "0  [0.0504354108556882, -0.6435868021258069, 0.55...   \n",
            "1  [0.05849179439603511, -0.6692367998019513, 0.8...   \n",
            "2  [0.07145130102065149, -0.6628583523278824, 0.7...   \n",
            "3  [0.055406842275364514, -0.6650791313474617, 0....   \n",
            "4  [0.055280071851095985, -0.6734932929228125, 0....   \n",
            "\n",
            "                                          landmark_9  ...  \\\n",
            "0  [0.2049460700737754, -0.8467928516502718, 0.96...  ...   \n",
            "1  [0.17977224235368713, -0.8724959712992216, 1.1...  ...   \n",
            "2  [0.16725852577448377, -0.8672182161657522, 1.1...  ...   \n",
            "3  [0.17449486932729513, -0.8629944429575803, 1.1...  ...   \n",
            "4  [0.16566554165226835, -0.8659612833623818, 1.1...  ...   \n",
            "\n",
            "                                         landmark_11  \\\n",
            "0  [-0.20940889860284767, -1.172991880090486, 0.6...   \n",
            "1  [-0.23515875632206892, -1.1927649354227579, 0....   \n",
            "2  [-0.2205250467849868, -1.180890591218371, 0.67...   \n",
            "3  [-0.23123330123921523, -1.200811625013522, 0.7...   \n",
            "4  [-0.231614048456224, -1.2049117413652022, 0.76...   \n",
            "\n",
            "                                         landmark_12  \\\n",
            "0  [-0.22953962342313913, -1.0969936831928928, 0....   \n",
            "1  [-0.2456018511989724, -1.1160484779255182, 0.7...   \n",
            "2  [-0.2168729303335262, -1.1062206842450104, 0.6...   \n",
            "3  [-0.240816725913133, -1.1216945775878286, 0.70...   \n",
            "4  [-0.24398165215184298, -1.125829618348516, 0.7...   \n",
            "\n",
            "                                         landmark_13  \\\n",
            "0  [0.0544587996916911, -0.9906427284948718, 0.96...   \n",
            "1  [0.027653503884875096, -1.0187271514508396, 1....   \n",
            "2  [0.014863905380690903, -0.9989859420421785, 1....   \n",
            "3  [0.030920787286776063, -1.0103780062873893, 1....   \n",
            "4  [0.01871801971694321, -1.0072162571622152, 1.0...   \n",
            "\n",
            "                                         landmark_14  \\\n",
            "0  [-0.1774958251652837, -1.432269078942892, 1.00...   \n",
            "1  [-0.18933159508581926, -1.4648913275395874, 1....   \n",
            "2  [-0.19970090728171452, -1.449954855369573, 1.0...   \n",
            "3  [-0.18930977173348867, -1.4645429447971667, 1....   \n",
            "4  [-0.19151214151950618, -1.4625244657906618, 1....   \n",
            "\n",
            "                                         landmark_15  \\\n",
            "0  [-0.3746061742783284, -1.4520192957015279, 0.9...   \n",
            "1  [-0.3712326664144854, -1.514446551721684, 1.05...   \n",
            "2  [-0.3685860936619822, -1.521127674286975, 1.04...   \n",
            "3  [-0.3804447966101865, -1.5062610183855931, 1.0...   \n",
            "4  [-0.38183365040299905, -1.5272572071456778, 1....   \n",
            "\n",
            "                                         landmark_16  \\\n",
            "0  [-0.42653946136412657, -1.385327064095464, 0.8...   \n",
            "1  [-0.4097958114863323, -1.4753939702164092, 1.0...   \n",
            "2  [-0.3916125263022261, -1.5120357713899306, 0.9...   \n",
            "3  [-0.4216754325773782, -1.4590499491607092, 0.9...   \n",
            "4  [-0.42626445796010254, -1.5033614935431006, 0....   \n",
            "\n",
            "                                         landmark_17  \\\n",
            "0  [-0.1099790763239932, -1.0883379577635444, 0.8...   \n",
            "1  [-0.1397179799384768, -1.1086195984330967, 0.8...   \n",
            "2  [-0.14980792323543782, -1.0804604791576897, 0....   \n",
            "3  [-0.13308237816905397, -1.106739856160108, 0.8...   \n",
            "4  [-0.14559918977285366, -1.0976975555306436, 0....   \n",
            "\n",
            "                                         landmark_18  \\\n",
            "0  [-0.22583601569589884, -1.4335667166453119, 1....   \n",
            "1  [-0.2603940330883177, -1.4584823387313894, 1.1...   \n",
            "2  [-0.26997990903707514, -1.4410202552894704, 1....   \n",
            "3  [-0.2565941965720112, -1.457766157082816, 1.07...   \n",
            "4  [-0.2648885622881516, -1.452159317192178, 1.12...   \n",
            "\n",
            "                                         landmark_19  \\\n",
            "0  [-0.3895406364487474, -1.6177404602315484, 1.0...   \n",
            "1  [-0.4028396004535173, -1.6401812386325225, 1.1...   \n",
            "2  [-0.40407504980608255, -1.6273944047774147, 1....   \n",
            "3  [-0.4082463679458053, -1.6344912817775992, 1.0...   \n",
            "4  [-0.4026182925779372, -1.6312665676921616, 1.1...   \n",
            "\n",
            "                                         landmark_20  \n",
            "0  [-0.47267116550283933, -1.7277766505329317, 0....  \n",
            "1  [-0.4578453500792431, -1.7323683743399843, 1.0...  \n",
            "2  [-0.4425473749287808, -1.735525219051628, 1.09...  \n",
            "3  [-0.4643075169650236, -1.7293157737699005, 0.9...  \n",
            "4  [-0.4437746124908512, -1.7342292706439955, 1.0...  \n",
            "\n",
            "[5 rows x 21 columns]\n"
          ]
        }
      ],
      "source": [
        "new_columns = []\n",
        "for i in range(21):  # 21 landmarks\n",
        "    new_columns.append(f'landmark_{i}')  # Name for the column of each landmark\n",
        "\n",
        "# Create a DataFrame with the landmark values ​​(x, y, z)\n",
        "landmark_data = []\n",
        "for i in range(21):\n",
        "    # Create a list for each landmark, which will have the 3 coordinates\n",
        "    landmark_data.append(\n",
        "        clips_features_df[[f'x_{i}', f'y_{i}', f'z_{i}']].values.tolist()\n",
        "    )\n",
        "# Creating a new DataFrame where each column represents a landmark with its 3D coordinates.\n",
        "landmark_df = pd.DataFrame({\n",
        "    f'landmark_{i}': [coords for coords in clips_features_df[[f'x_{i}', f'y_{i}', f'z_{i}']].values]\n",
        "    for i in range(21)\n",
        "})\n",
        "\n",
        "print(landmark_df.head())"
      ]
    },
    {
      "cell_type": "markdown",
      "source": [
        "# **Step 3:** Merge original metadata with newly structured landmark columns.\n",
        "Creates a unified dataset for each frame. Keep the video metadata (clip_id, etc.) and merge it with the new landmarks columns"
      ],
      "metadata": {
        "id": "O0ul9IbABxWJ"
      },
      "id": "O0ul9IbABxWJ"
    },
    {
      "cell_type": "code",
      "execution_count": null,
      "id": "4693d0b7",
      "metadata": {
        "id": "4693d0b7"
      },
      "outputs": [],
      "source": [
        "\n",
        "final_df = pd.concat([clips_features_df.drop(columns=landmark_columns), landmark_df], axis=1)"
      ]
    },
    {
      "cell_type": "code",
      "execution_count": null,
      "id": "4584719a",
      "metadata": {
        "id": "4584719a",
        "outputId": "51456ffe-a2d8-48af-e4d5-ed1f245866c9"
      },
      "outputs": [
        {
          "name": "stdout",
          "output_type": "stream",
          "text": [
            "          clip_id class_id signer_id     view  repetition  \\\n",
            "0  S1-J-frontal-1        J        S1  frontal           1   \n",
            "1  S1-J-frontal-1        J        S1  frontal           1   \n",
            "2  S1-J-frontal-1        J        S1  frontal           1   \n",
            "3  S1-J-frontal-1        J        S1  frontal           1   \n",
            "4  S1-J-frontal-1        J        S1  frontal           1   \n",
            "\n",
            "                                                path  split   fps  n_frames  \\\n",
            "0  ..\\..\\src\\datasets\\MSL-dynamic-signs\\train\\S1-...  train  30.0        62   \n",
            "1  ..\\..\\src\\datasets\\MSL-dynamic-signs\\train\\S1-...  train  30.0        62   \n",
            "2  ..\\..\\src\\datasets\\MSL-dynamic-signs\\train\\S1-...  train  30.0        62   \n",
            "3  ..\\..\\src\\datasets\\MSL-dynamic-signs\\train\\S1-...  train  30.0        62   \n",
            "4  ..\\..\\src\\datasets\\MSL-dynamic-signs\\train\\S1-...  train  30.0        62   \n",
            "\n",
            "   duration  ...                                        landmark_11  \\\n",
            "0  2.066667  ...  [-0.20940889860284767, -1.172991880090486, 0.6...   \n",
            "1  2.066667  ...  [-0.23515875632206892, -1.1927649354227579, 0....   \n",
            "2  2.066667  ...  [-0.2205250467849868, -1.180890591218371, 0.67...   \n",
            "3  2.066667  ...  [-0.23123330123921523, -1.200811625013522, 0.7...   \n",
            "4  2.066667  ...  [-0.231614048456224, -1.2049117413652022, 0.76...   \n",
            "\n",
            "                                         landmark_12  \\\n",
            "0  [-0.22953962342313913, -1.0969936831928928, 0....   \n",
            "1  [-0.2456018511989724, -1.1160484779255182, 0.7...   \n",
            "2  [-0.2168729303335262, -1.1062206842450104, 0.6...   \n",
            "3  [-0.240816725913133, -1.1216945775878286, 0.70...   \n",
            "4  [-0.24398165215184298, -1.125829618348516, 0.7...   \n",
            "\n",
            "                                         landmark_13  \\\n",
            "0  [0.0544587996916911, -0.9906427284948718, 0.96...   \n",
            "1  [0.027653503884875096, -1.0187271514508396, 1....   \n",
            "2  [0.014863905380690903, -0.9989859420421785, 1....   \n",
            "3  [0.030920787286776063, -1.0103780062873893, 1....   \n",
            "4  [0.01871801971694321, -1.0072162571622152, 1.0...   \n",
            "\n",
            "                                         landmark_14  \\\n",
            "0  [-0.1774958251652837, -1.432269078942892, 1.00...   \n",
            "1  [-0.18933159508581926, -1.4648913275395874, 1....   \n",
            "2  [-0.19970090728171452, -1.449954855369573, 1.0...   \n",
            "3  [-0.18930977173348867, -1.4645429447971667, 1....   \n",
            "4  [-0.19151214151950618, -1.4625244657906618, 1....   \n",
            "\n",
            "                                         landmark_15  \\\n",
            "0  [-0.3746061742783284, -1.4520192957015279, 0.9...   \n",
            "1  [-0.3712326664144854, -1.514446551721684, 1.05...   \n",
            "2  [-0.3685860936619822, -1.521127674286975, 1.04...   \n",
            "3  [-0.3804447966101865, -1.5062610183855931, 1.0...   \n",
            "4  [-0.38183365040299905, -1.5272572071456778, 1....   \n",
            "\n",
            "                                         landmark_16  \\\n",
            "0  [-0.42653946136412657, -1.385327064095464, 0.8...   \n",
            "1  [-0.4097958114863323, -1.4753939702164092, 1.0...   \n",
            "2  [-0.3916125263022261, -1.5120357713899306, 0.9...   \n",
            "3  [-0.4216754325773782, -1.4590499491607092, 0.9...   \n",
            "4  [-0.42626445796010254, -1.5033614935431006, 0....   \n",
            "\n",
            "                                         landmark_17  \\\n",
            "0  [-0.1099790763239932, -1.0883379577635444, 0.8...   \n",
            "1  [-0.1397179799384768, -1.1086195984330967, 0.8...   \n",
            "2  [-0.14980792323543782, -1.0804604791576897, 0....   \n",
            "3  [-0.13308237816905397, -1.106739856160108, 0.8...   \n",
            "4  [-0.14559918977285366, -1.0976975555306436, 0....   \n",
            "\n",
            "                                         landmark_18  \\\n",
            "0  [-0.22583601569589884, -1.4335667166453119, 1....   \n",
            "1  [-0.2603940330883177, -1.4584823387313894, 1.1...   \n",
            "2  [-0.26997990903707514, -1.4410202552894704, 1....   \n",
            "3  [-0.2565941965720112, -1.457766157082816, 1.07...   \n",
            "4  [-0.2648885622881516, -1.452159317192178, 1.12...   \n",
            "\n",
            "                                         landmark_19  \\\n",
            "0  [-0.3895406364487474, -1.6177404602315484, 1.0...   \n",
            "1  [-0.4028396004535173, -1.6401812386325225, 1.1...   \n",
            "2  [-0.40407504980608255, -1.6273944047774147, 1....   \n",
            "3  [-0.4082463679458053, -1.6344912817775992, 1.0...   \n",
            "4  [-0.4026182925779372, -1.6312665676921616, 1.1...   \n",
            "\n",
            "                                         landmark_20  \n",
            "0  [-0.47267116550283933, -1.7277766505329317, 0....  \n",
            "1  [-0.4578453500792431, -1.7323683743399843, 1.0...  \n",
            "2  [-0.4425473749287808, -1.735525219051628, 1.09...  \n",
            "3  [-0.4643075169650236, -1.7293157737699005, 0.9...  \n",
            "4  [-0.4437746124908512, -1.7342292706439955, 1.0...  \n",
            "\n",
            "[5 rows x 38 columns]\n"
          ]
        }
      ],
      "source": [
        "print(final_df.head())"
      ]
    },
    {
      "cell_type": "code",
      "execution_count": null,
      "id": "9a53dccd",
      "metadata": {
        "id": "9a53dccd",
        "outputId": "f595c2a3-17e3-4e1b-8755-2de731a9bbaf"
      },
      "outputs": [
        {
          "data": {
            "text/plain": [
              "<bound method NDFrame.describe of               clip_id class_id signer_id     view  repetition  \\\n",
              "0      S1-J-frontal-1        J        S1  frontal           1   \n",
              "1      S1-J-frontal-1        J        S1  frontal           1   \n",
              "2      S1-J-frontal-1        J        S1  frontal           1   \n",
              "3      S1-J-frontal-1        J        S1  frontal           1   \n",
              "4      S1-J-frontal-1        J        S1  frontal           1   \n",
              "...               ...      ...       ...      ...         ...   \n",
              "84342   S9-Ñ-perfil-5        Ñ        S9  profile           5   \n",
              "84343   S9-Ñ-perfil-5        Ñ        S9  profile           5   \n",
              "84344   S9-Ñ-perfil-5        Ñ        S9  profile           5   \n",
              "84345   S9-Ñ-perfil-5        Ñ        S9  profile           5   \n",
              "84346   S9-Ñ-perfil-5        Ñ        S9  profile           5   \n",
              "\n",
              "                                                    path  split     fps  \\\n",
              "0      ..\\..\\src\\datasets\\MSL-dynamic-signs\\train\\S1-...  train  30.000   \n",
              "1      ..\\..\\src\\datasets\\MSL-dynamic-signs\\train\\S1-...  train  30.000   \n",
              "2      ..\\..\\src\\datasets\\MSL-dynamic-signs\\train\\S1-...  train  30.000   \n",
              "3      ..\\..\\src\\datasets\\MSL-dynamic-signs\\train\\S1-...  train  30.000   \n",
              "4      ..\\..\\src\\datasets\\MSL-dynamic-signs\\train\\S1-...  train  30.000   \n",
              "...                                                  ...    ...     ...   \n",
              "84342  ..\\..\\src\\datasets\\MSL-dynamic-profile-signs\\Ñ...      Ñ  59.504   \n",
              "84343  ..\\..\\src\\datasets\\MSL-dynamic-profile-signs\\Ñ...      Ñ  59.504   \n",
              "84344  ..\\..\\src\\datasets\\MSL-dynamic-profile-signs\\Ñ...      Ñ  59.504   \n",
              "84345  ..\\..\\src\\datasets\\MSL-dynamic-profile-signs\\Ñ...      Ñ  59.504   \n",
              "84346  ..\\..\\src\\datasets\\MSL-dynamic-profile-signs\\Ñ...      Ñ  59.504   \n",
              "\n",
              "       n_frames  duration  ...  \\\n",
              "0            62  2.066667  ...   \n",
              "1            62  2.066667  ...   \n",
              "2            62  2.066667  ...   \n",
              "3            62  2.066667  ...   \n",
              "4            62  2.066667  ...   \n",
              "...         ...       ...  ...   \n",
              "84342        84  1.411670  ...   \n",
              "84343        84  1.411670  ...   \n",
              "84344        84  1.411670  ...   \n",
              "84345        84  1.411670  ...   \n",
              "84346        84  1.411670  ...   \n",
              "\n",
              "                                             landmark_11  \\\n",
              "0      [-0.20940889860284767, -1.172991880090486, 0.6...   \n",
              "1      [-0.23515875632206892, -1.1927649354227579, 0....   \n",
              "2      [-0.2205250467849868, -1.180890591218371, 0.67...   \n",
              "3      [-0.23123330123921523, -1.200811625013522, 0.7...   \n",
              "4      [-0.231614048456224, -1.2049117413652022, 0.76...   \n",
              "...                                                  ...   \n",
              "84342  [0.37898754880965385, 1.0065047884539697, -1.9...   \n",
              "84343  [0.3746308818420891, 1.0133060269985286, -1.93...   \n",
              "84344  [0.3762130361826027, 1.001137168555349, -1.940...   \n",
              "84345  [0.37447565948488076, 0.9923812952727114, -1.9...   \n",
              "84346  [0.3714342061672942, 0.9905874170820496, -1.99...   \n",
              "\n",
              "                                             landmark_12  \\\n",
              "0      [-0.22953962342313913, -1.0969936831928928, 0....   \n",
              "1      [-0.2456018511989724, -1.1160484779255182, 0.7...   \n",
              "2      [-0.2168729303335262, -1.1062206842450104, 0.6...   \n",
              "3      [-0.240816725913133, -1.1216945775878286, 0.70...   \n",
              "4      [-0.24398165215184298, -1.125829618348516, 0.7...   \n",
              "...                                                  ...   \n",
              "84342  [0.35458842945988317, 1.2596742987682343, -1.8...   \n",
              "84343  [0.3556747350103523, 1.265251157396774, -1.889...   \n",
              "84344  [0.3561691455455449, 1.2515169450274504, -1.90...   \n",
              "84345  [0.35433510957436043, 1.2413570899258395, -1.9...   \n",
              "84346  [0.3510726988555666, 1.2386596450187504, -1.96...   \n",
              "\n",
              "                                             landmark_13  \\\n",
              "0      [0.0544587996916911, -0.9906427284948718, 0.96...   \n",
              "1      [0.027653503884875096, -1.0187271514508396, 1....   \n",
              "2      [0.014863905380690903, -0.9989859420421785, 1....   \n",
              "3      [0.030920787286776063, -1.0103780062873893, 1....   \n",
              "4      [0.01871801971694321, -1.0072162571622152, 1.0...   \n",
              "...                                                  ...   \n",
              "84342  [0.4768448234033149, -0.054984654961126034, -1...   \n",
              "84343  [0.4711808638595428, -0.05960775658359031, -1....   \n",
              "84344  [0.4792916230809717, -0.0678645662557359, -1.4...   \n",
              "84345  [0.47784729411902677, -0.0751861577825451, -1....   \n",
              "84346  [0.47322012063469665, -0.0758667118747751, -1....   \n",
              "\n",
              "                                             landmark_14  \\\n",
              "0      [-0.1774958251652837, -1.432269078942892, 1.00...   \n",
              "1      [-0.18933159508581926, -1.4648913275395874, 1....   \n",
              "2      [-0.19970090728171452, -1.449954855369573, 1.0...   \n",
              "3      [-0.18930977173348867, -1.4645429447971667, 1....   \n",
              "4      [-0.19151214151950618, -1.4625244657906618, 1....   \n",
              "...                                                  ...   \n",
              "84342  [0.412705648059224, 0.4793385583302102, -1.201...   \n",
              "84343  [0.41605070288366575, 0.4721245054081088, -1.2...   \n",
              "84344  [0.40727843076652004, 0.47464181400613553, -1....   \n",
              "84345  [0.40454872292582583, 0.46261073713157064, -1....   \n",
              "84346  [0.40331624015895934, 0.46399531524865445, -1....   \n",
              "\n",
              "                                             landmark_15  \\\n",
              "0      [-0.3746061742783284, -1.4520192957015279, 0.9...   \n",
              "1      [-0.3712326664144854, -1.514446551721684, 1.05...   \n",
              "2      [-0.3685860936619822, -1.521127674286975, 1.04...   \n",
              "3      [-0.3804447966101865, -1.5062610183855931, 1.0...   \n",
              "4      [-0.38183365040299905, -1.5272572071456778, 1....   \n",
              "...                                                  ...   \n",
              "84342  [0.44463794181890054, 0.584970260865953, -1.27...   \n",
              "84343  [0.4469660442623932, 0.5572977064071885, -1.26...   \n",
              "84344  [0.43309366861061893, 0.5899062338458698, -1.3...   \n",
              "84345  [0.43294563685222076, 0.5676685029003147, -1.3...   \n",
              "84346  [0.4278089715682507, 0.579302971349667, -1.347...   \n",
              "\n",
              "                                             landmark_16  \\\n",
              "0      [-0.42653946136412657, -1.385327064095464, 0.8...   \n",
              "1      [-0.4097958114863323, -1.4753939702164092, 1.0...   \n",
              "2      [-0.3916125263022261, -1.5120357713899306, 0.9...   \n",
              "3      [-0.4216754325773782, -1.4590499491607092, 0.9...   \n",
              "4      [-0.42626445796010254, -1.5033614935431006, 0....   \n",
              "...                                                  ...   \n",
              "84342  [0.5076651351157909, 0.6465701058900218, -1.39...   \n",
              "84343  [0.5113093059068204, 0.5947716560495712, -1.34...   \n",
              "84344  [0.49573066361902435, 0.657468265910146, -1.45...   \n",
              "84345  [0.49937596147318514, 0.6249025448292174, -1.4...   \n",
              "84346  [0.4898301124392398, 0.6460992772218557, -1.47...   \n",
              "\n",
              "                                             landmark_17  \\\n",
              "0      [-0.1099790763239932, -1.0883379577635444, 0.8...   \n",
              "1      [-0.1397179799384768, -1.1086195984330967, 0.8...   \n",
              "2      [-0.14980792323543782, -1.0804604791576897, 0....   \n",
              "3      [-0.13308237816905397, -1.106739856160108, 0.8...   \n",
              "4      [-0.14559918977285366, -1.0976975555306436, 0....   \n",
              "...                                                  ...   \n",
              "84342  [0.40403960081869317, -0.1740324228104662, -0....   \n",
              "84343  [0.396950816944323, -0.17789112233634147, -0.7...   \n",
              "84344  [0.40130800661370025, -0.18904288607686554, -0...   \n",
              "84345  [0.401761579392876, -0.19745517158397793, -0.7...   \n",
              "84346  [0.3973153159994229, -0.19559183794228005, -0....   \n",
              "\n",
              "                                             landmark_18  \\\n",
              "0      [-0.22583601569589884, -1.4335667166453119, 1....   \n",
              "1      [-0.2603940330883177, -1.4584823387313894, 1.1...   \n",
              "2      [-0.26997990903707514, -1.4410202552894704, 1....   \n",
              "3      [-0.2565941965720112, -1.457766157082816, 1.07...   \n",
              "4      [-0.2648885622881516, -1.452159317192178, 1.12...   \n",
              "...                                                  ...   \n",
              "84342  [0.42804273677093424, 0.20392337847203534, -0....   \n",
              "84343  [0.41992020446750955, 0.19784295877922553, -0....   \n",
              "84344  [0.4167201291133585, 0.19234635836747793, -0.7...   \n",
              "84345  [0.4163017681063826, 0.18276339795250876, -0.7...   \n",
              "84346  [0.41636689554546324, 0.18350807688133958, -0....   \n",
              "\n",
              "                                             landmark_19  \\\n",
              "0      [-0.3895406364487474, -1.6177404602315484, 1.0...   \n",
              "1      [-0.4028396004535173, -1.6401812386325225, 1.1...   \n",
              "2      [-0.40407504980608255, -1.6273944047774147, 1....   \n",
              "3      [-0.4082463679458053, -1.6344912817775992, 1.0...   \n",
              "4      [-0.4026182925779372, -1.6312665676921616, 1.1...   \n",
              "...                                                  ...   \n",
              "84342  [0.4947117461798746, 0.32359333693728604, -0.8...   \n",
              "84343  [0.48698161856617617, 0.3144759408291115, -0.8...   \n",
              "84344  [0.483498068672785, 0.3129031376360169, -0.923...   \n",
              "84345  [0.4798602738964137, 0.30168817189481634, -0.9...   \n",
              "84346  [0.48063149831131424, 0.3058541366902236, -0.9...   \n",
              "\n",
              "                                             landmark_20  \n",
              "0      [-0.47267116550283933, -1.7277766505329317, 0....  \n",
              "1      [-0.4578453500792431, -1.7323683743399843, 1.0...  \n",
              "2      [-0.4425473749287808, -1.735525219051628, 1.09...  \n",
              "3      [-0.4643075169650236, -1.7293157737699005, 0.9...  \n",
              "4      [-0.4437746124908512, -1.7342292706439955, 1.0...  \n",
              "...                                                  ...  \n",
              "84342  [0.5596361976503578, 0.3820194234669366, -1.02...  \n",
              "84343  [0.5555631589825198, 0.3679798593823203, -0.99...  \n",
              "84344  [0.5512347763343928, 0.37033817551932935, -1.0...  \n",
              "84345  [0.546515823160202, 0.356976844115017, -1.0930...  \n",
              "84346  [0.5465566177606033, 0.3645857439343139, -1.09...  \n",
              "\n",
              "[84347 rows x 38 columns]>"
            ]
          },
          "execution_count": 105,
          "metadata": {},
          "output_type": "execute_result"
        }
      ],
      "source": [
        "final_df.describe"
      ]
    },
    {
      "cell_type": "markdown",
      "source": [
        "# **Step 4:** Truncate or pad each clip to exactly 120 frames.\n",
        "Ensures uniform input length for downstream models."
      ],
      "metadata": {
        "id": "TNhFCXsDB5m1"
      },
      "id": "TNhFCXsDB5m1"
    },
    {
      "cell_type": "code",
      "execution_count": null,
      "id": "27a774b8",
      "metadata": {
        "id": "27a774b8",
        "outputId": "7c261cf9-ec6a-4b23-bd5c-f5c8ba20f7a8"
      },
      "outputs": [
        {
          "name": "stderr",
          "output_type": "stream",
          "text": [
            "C:\\Users\\Angel\\AppData\\Local\\Temp\\ipykernel_9396\\3153714096.py:15: DeprecationWarning: DataFrameGroupBy.apply operated on the grouping columns. This behavior is deprecated, and in a future version of pandas the grouping columns will be excluded from the operation. Either pass `include_groups=False` to exclude the groupings or explicitly select the grouping columns after groupby to silence this warning.\n",
            "  .apply(truncate_frames)\n"
          ]
        }
      ],
      "source": [
        "def truncate_frames(df, max_frames=120):\n",
        "    # If the number of frames is less than max_frames, repeat the last frame\n",
        "    if len(df) < max_frames:\n",
        "        last_row = df.iloc[-1:]\n",
        "        df = pd.concat([df] + [last_row]*(max_frames - len(df)), ignore_index=True)\n",
        "    # If the number of frames is greater than max_frames, truncate the DataFrame\n",
        "    elif len(df) > max_frames:\n",
        "        df = df.iloc[:max_frames]\n",
        "    return df\n",
        "\n",
        "# Applies truncation and resets the index\n",
        "final_df_adjusted = (\n",
        "    final_df.groupby('clip_id', group_keys=False)\n",
        "    .apply(truncate_frames)\n",
        "    .reset_index(drop=True)\n",
        ")"
      ]
    },
    {
      "cell_type": "code",
      "execution_count": null,
      "id": "9104028e",
      "metadata": {
        "id": "9104028e",
        "outputId": "70521b14-7bae-4080-db05-d8704697ca1b"
      },
      "outputs": [
        {
          "name": "stdout",
          "output_type": "stream",
          "text": [
            "clip_id\n",
            "S9-Ñ-perfil-5     120\n",
            "S1-J-frontal-1    120\n",
            "S1-J-frontal-2    120\n",
            "S1-J-frontal-3    120\n",
            "S9-Z-frontal-4    120\n",
            "                 ... \n",
            "S1-J-perfil-4     120\n",
            "S1-J-perfil-3     120\n",
            "S1-J-perfil-2     120\n",
            "S1-J-perfil-1     120\n",
            "S1-J-frontal-5    120\n",
            "Name: count, Length: 1108, dtype: int64\n"
          ]
        }
      ],
      "source": [
        "# Verifying that each clip now contains exactly 120 frames.\n",
        "print(final_df_adjusted['clip_id'].value_counts())"
      ]
    },
    {
      "cell_type": "code",
      "execution_count": null,
      "id": "f7e94d66",
      "metadata": {
        "id": "f7e94d66",
        "outputId": "ebf49c78-42cb-4f85-c5c9-4b9cc82be9f1"
      },
      "outputs": [
        {
          "name": "stderr",
          "output_type": "stream",
          "text": [
            "C:\\Users\\Angel\\AppData\\Local\\Temp\\ipykernel_9396\\2210155505.py:3: DeprecationWarning: DataFrameGroupBy.apply operated on the grouping columns. This behavior is deprecated, and in a future version of pandas the grouping columns will be excluded from the operation. Either pass `include_groups=False` to exclude the groupings or explicitly select the grouping columns after groupby to silence this warning.\n",
            "  final_df_adjusted = final_df.groupby('clip_id').apply(truncate_frames)\n"
          ]
        }
      ],
      "source": [
        "# Applying truncation function to each clip and resetting index.\n",
        "# Assuming 'clip_id' is the video identifier\n",
        "final_df_adjusted = final_df.groupby('clip_id').apply(truncate_frames)"
      ]
    },
    {
      "cell_type": "code",
      "execution_count": null,
      "id": "05f87aeb",
      "metadata": {
        "id": "05f87aeb",
        "outputId": "beee99f2-ddd1-43af-b757-ca46d38f4477"
      },
      "outputs": [
        {
          "name": "stdout",
          "output_type": "stream",
          "text": [
            "<bound method NDFrame.describe of                            clip_id class_id signer_id     view  repetition  \\\n",
            "clip_id                                                                      \n",
            "S1-J-frontal-1 0    S1-J-frontal-1        J        S1  frontal           1   \n",
            "               1    S1-J-frontal-1        J        S1  frontal           1   \n",
            "               2    S1-J-frontal-1        J        S1  frontal           1   \n",
            "               3    S1-J-frontal-1        J        S1  frontal           1   \n",
            "               4    S1-J-frontal-1        J        S1  frontal           1   \n",
            "...                            ...      ...       ...      ...         ...   \n",
            "S9-Ñ-perfil-5  115   S9-Ñ-perfil-5        Ñ        S9  profile           5   \n",
            "               116   S9-Ñ-perfil-5        Ñ        S9  profile           5   \n",
            "               117   S9-Ñ-perfil-5        Ñ        S9  profile           5   \n",
            "               118   S9-Ñ-perfil-5        Ñ        S9  profile           5   \n",
            "               119   S9-Ñ-perfil-5        Ñ        S9  profile           5   \n",
            "\n",
            "                                                                 path  split  \\\n",
            "clip_id                                                                        \n",
            "S1-J-frontal-1 0    ..\\..\\src\\datasets\\MSL-dynamic-signs\\train\\S1-...  train   \n",
            "               1    ..\\..\\src\\datasets\\MSL-dynamic-signs\\train\\S1-...  train   \n",
            "               2    ..\\..\\src\\datasets\\MSL-dynamic-signs\\train\\S1-...  train   \n",
            "               3    ..\\..\\src\\datasets\\MSL-dynamic-signs\\train\\S1-...  train   \n",
            "               4    ..\\..\\src\\datasets\\MSL-dynamic-signs\\train\\S1-...  train   \n",
            "...                                                               ...    ...   \n",
            "S9-Ñ-perfil-5  115  ..\\..\\src\\datasets\\MSL-dynamic-profile-signs\\Ñ...      Ñ   \n",
            "               116  ..\\..\\src\\datasets\\MSL-dynamic-profile-signs\\Ñ...      Ñ   \n",
            "               117  ..\\..\\src\\datasets\\MSL-dynamic-profile-signs\\Ñ...      Ñ   \n",
            "               118  ..\\..\\src\\datasets\\MSL-dynamic-profile-signs\\Ñ...      Ñ   \n",
            "               119  ..\\..\\src\\datasets\\MSL-dynamic-profile-signs\\Ñ...      Ñ   \n",
            "\n",
            "                       fps  n_frames  duration  ...  \\\n",
            "clip_id                                         ...   \n",
            "S1-J-frontal-1 0    30.000        62  2.066667  ...   \n",
            "               1    30.000        62  2.066667  ...   \n",
            "               2    30.000        62  2.066667  ...   \n",
            "               3    30.000        62  2.066667  ...   \n",
            "               4    30.000        62  2.066667  ...   \n",
            "...                    ...       ...       ...  ...   \n",
            "S9-Ñ-perfil-5  115  59.504        84  1.411670  ...   \n",
            "               116  59.504        84  1.411670  ...   \n",
            "               117  59.504        84  1.411670  ...   \n",
            "               118  59.504        84  1.411670  ...   \n",
            "               119  59.504        84  1.411670  ...   \n",
            "\n",
            "                                                          landmark_11  \\\n",
            "clip_id                                                                 \n",
            "S1-J-frontal-1 0    [-0.20940889860284767, -1.172991880090486, 0.6...   \n",
            "               1    [-0.23515875632206892, -1.1927649354227579, 0....   \n",
            "               2    [-0.2205250467849868, -1.180890591218371, 0.67...   \n",
            "               3    [-0.23123330123921523, -1.200811625013522, 0.7...   \n",
            "               4    [-0.231614048456224, -1.2049117413652022, 0.76...   \n",
            "...                                                               ...   \n",
            "S9-Ñ-perfil-5  115  [0.3714342061672942, 0.9905874170820496, -1.99...   \n",
            "               116  [0.3714342061672942, 0.9905874170820496, -1.99...   \n",
            "               117  [0.3714342061672942, 0.9905874170820496, -1.99...   \n",
            "               118  [0.3714342061672942, 0.9905874170820496, -1.99...   \n",
            "               119  [0.3714342061672942, 0.9905874170820496, -1.99...   \n",
            "\n",
            "                                                          landmark_12  \\\n",
            "clip_id                                                                 \n",
            "S1-J-frontal-1 0    [-0.22953962342313913, -1.0969936831928928, 0....   \n",
            "               1    [-0.2456018511989724, -1.1160484779255182, 0.7...   \n",
            "               2    [-0.2168729303335262, -1.1062206842450104, 0.6...   \n",
            "               3    [-0.240816725913133, -1.1216945775878286, 0.70...   \n",
            "               4    [-0.24398165215184298, -1.125829618348516, 0.7...   \n",
            "...                                                               ...   \n",
            "S9-Ñ-perfil-5  115  [0.3510726988555666, 1.2386596450187504, -1.96...   \n",
            "               116  [0.3510726988555666, 1.2386596450187504, -1.96...   \n",
            "               117  [0.3510726988555666, 1.2386596450187504, -1.96...   \n",
            "               118  [0.3510726988555666, 1.2386596450187504, -1.96...   \n",
            "               119  [0.3510726988555666, 1.2386596450187504, -1.96...   \n",
            "\n",
            "                                                          landmark_13  \\\n",
            "clip_id                                                                 \n",
            "S1-J-frontal-1 0    [0.0544587996916911, -0.9906427284948718, 0.96...   \n",
            "               1    [0.027653503884875096, -1.0187271514508396, 1....   \n",
            "               2    [0.014863905380690903, -0.9989859420421785, 1....   \n",
            "               3    [0.030920787286776063, -1.0103780062873893, 1....   \n",
            "               4    [0.01871801971694321, -1.0072162571622152, 1.0...   \n",
            "...                                                               ...   \n",
            "S9-Ñ-perfil-5  115  [0.47322012063469665, -0.0758667118747751, -1....   \n",
            "               116  [0.47322012063469665, -0.0758667118747751, -1....   \n",
            "               117  [0.47322012063469665, -0.0758667118747751, -1....   \n",
            "               118  [0.47322012063469665, -0.0758667118747751, -1....   \n",
            "               119  [0.47322012063469665, -0.0758667118747751, -1....   \n",
            "\n",
            "                                                          landmark_14  \\\n",
            "clip_id                                                                 \n",
            "S1-J-frontal-1 0    [-0.1774958251652837, -1.432269078942892, 1.00...   \n",
            "               1    [-0.18933159508581926, -1.4648913275395874, 1....   \n",
            "               2    [-0.19970090728171452, -1.449954855369573, 1.0...   \n",
            "               3    [-0.18930977173348867, -1.4645429447971667, 1....   \n",
            "               4    [-0.19151214151950618, -1.4625244657906618, 1....   \n",
            "...                                                               ...   \n",
            "S9-Ñ-perfil-5  115  [0.40331624015895934, 0.46399531524865445, -1....   \n",
            "               116  [0.40331624015895934, 0.46399531524865445, -1....   \n",
            "               117  [0.40331624015895934, 0.46399531524865445, -1....   \n",
            "               118  [0.40331624015895934, 0.46399531524865445, -1....   \n",
            "               119  [0.40331624015895934, 0.46399531524865445, -1....   \n",
            "\n",
            "                                                          landmark_15  \\\n",
            "clip_id                                                                 \n",
            "S1-J-frontal-1 0    [-0.3746061742783284, -1.4520192957015279, 0.9...   \n",
            "               1    [-0.3712326664144854, -1.514446551721684, 1.05...   \n",
            "               2    [-0.3685860936619822, -1.521127674286975, 1.04...   \n",
            "               3    [-0.3804447966101865, -1.5062610183855931, 1.0...   \n",
            "               4    [-0.38183365040299905, -1.5272572071456778, 1....   \n",
            "...                                                               ...   \n",
            "S9-Ñ-perfil-5  115  [0.4278089715682507, 0.579302971349667, -1.347...   \n",
            "               116  [0.4278089715682507, 0.579302971349667, -1.347...   \n",
            "               117  [0.4278089715682507, 0.579302971349667, -1.347...   \n",
            "               118  [0.4278089715682507, 0.579302971349667, -1.347...   \n",
            "               119  [0.4278089715682507, 0.579302971349667, -1.347...   \n",
            "\n",
            "                                                          landmark_16  \\\n",
            "clip_id                                                                 \n",
            "S1-J-frontal-1 0    [-0.42653946136412657, -1.385327064095464, 0.8...   \n",
            "               1    [-0.4097958114863323, -1.4753939702164092, 1.0...   \n",
            "               2    [-0.3916125263022261, -1.5120357713899306, 0.9...   \n",
            "               3    [-0.4216754325773782, -1.4590499491607092, 0.9...   \n",
            "               4    [-0.42626445796010254, -1.5033614935431006, 0....   \n",
            "...                                                               ...   \n",
            "S9-Ñ-perfil-5  115  [0.4898301124392398, 0.6460992772218557, -1.47...   \n",
            "               116  [0.4898301124392398, 0.6460992772218557, -1.47...   \n",
            "               117  [0.4898301124392398, 0.6460992772218557, -1.47...   \n",
            "               118  [0.4898301124392398, 0.6460992772218557, -1.47...   \n",
            "               119  [0.4898301124392398, 0.6460992772218557, -1.47...   \n",
            "\n",
            "                                                          landmark_17  \\\n",
            "clip_id                                                                 \n",
            "S1-J-frontal-1 0    [-0.1099790763239932, -1.0883379577635444, 0.8...   \n",
            "               1    [-0.1397179799384768, -1.1086195984330967, 0.8...   \n",
            "               2    [-0.14980792323543782, -1.0804604791576897, 0....   \n",
            "               3    [-0.13308237816905397, -1.106739856160108, 0.8...   \n",
            "               4    [-0.14559918977285366, -1.0976975555306436, 0....   \n",
            "...                                                               ...   \n",
            "S9-Ñ-perfil-5  115  [0.3973153159994229, -0.19559183794228005, -0....   \n",
            "               116  [0.3973153159994229, -0.19559183794228005, -0....   \n",
            "               117  [0.3973153159994229, -0.19559183794228005, -0....   \n",
            "               118  [0.3973153159994229, -0.19559183794228005, -0....   \n",
            "               119  [0.3973153159994229, -0.19559183794228005, -0....   \n",
            "\n",
            "                                                          landmark_18  \\\n",
            "clip_id                                                                 \n",
            "S1-J-frontal-1 0    [-0.22583601569589884, -1.4335667166453119, 1....   \n",
            "               1    [-0.2603940330883177, -1.4584823387313894, 1.1...   \n",
            "               2    [-0.26997990903707514, -1.4410202552894704, 1....   \n",
            "               3    [-0.2565941965720112, -1.457766157082816, 1.07...   \n",
            "               4    [-0.2648885622881516, -1.452159317192178, 1.12...   \n",
            "...                                                               ...   \n",
            "S9-Ñ-perfil-5  115  [0.41636689554546324, 0.18350807688133958, -0....   \n",
            "               116  [0.41636689554546324, 0.18350807688133958, -0....   \n",
            "               117  [0.41636689554546324, 0.18350807688133958, -0....   \n",
            "               118  [0.41636689554546324, 0.18350807688133958, -0....   \n",
            "               119  [0.41636689554546324, 0.18350807688133958, -0....   \n",
            "\n",
            "                                                          landmark_19  \\\n",
            "clip_id                                                                 \n",
            "S1-J-frontal-1 0    [-0.3895406364487474, -1.6177404602315484, 1.0...   \n",
            "               1    [-0.4028396004535173, -1.6401812386325225, 1.1...   \n",
            "               2    [-0.40407504980608255, -1.6273944047774147, 1....   \n",
            "               3    [-0.4082463679458053, -1.6344912817775992, 1.0...   \n",
            "               4    [-0.4026182925779372, -1.6312665676921616, 1.1...   \n",
            "...                                                               ...   \n",
            "S9-Ñ-perfil-5  115  [0.48063149831131424, 0.3058541366902236, -0.9...   \n",
            "               116  [0.48063149831131424, 0.3058541366902236, -0.9...   \n",
            "               117  [0.48063149831131424, 0.3058541366902236, -0.9...   \n",
            "               118  [0.48063149831131424, 0.3058541366902236, -0.9...   \n",
            "               119  [0.48063149831131424, 0.3058541366902236, -0.9...   \n",
            "\n",
            "                                                          landmark_20  \n",
            "clip_id                                                                \n",
            "S1-J-frontal-1 0    [-0.47267116550283933, -1.7277766505329317, 0....  \n",
            "               1    [-0.4578453500792431, -1.7323683743399843, 1.0...  \n",
            "               2    [-0.4425473749287808, -1.735525219051628, 1.09...  \n",
            "               3    [-0.4643075169650236, -1.7293157737699005, 0.9...  \n",
            "               4    [-0.4437746124908512, -1.7342292706439955, 1.0...  \n",
            "...                                                               ...  \n",
            "S9-Ñ-perfil-5  115  [0.5465566177606033, 0.3645857439343139, -1.09...  \n",
            "               116  [0.5465566177606033, 0.3645857439343139, -1.09...  \n",
            "               117  [0.5465566177606033, 0.3645857439343139, -1.09...  \n",
            "               118  [0.5465566177606033, 0.3645857439343139, -1.09...  \n",
            "               119  [0.5465566177606033, 0.3645857439343139, -1.09...  \n",
            "\n",
            "[132960 rows x 38 columns]>\n"
          ]
        }
      ],
      "source": [
        "print(final_df_adjusted.describe)"
      ]
    },
    {
      "cell_type": "markdown",
      "source": [
        "# **Step 5:** Visualize the distribution of a specific landmark coordinate (x of landmark_0).\n",
        "Helps assess feature variability and detect outliers. Display the distribution of one of the generated features, for example, the first coordinate 'landmark_0_x'"
      ],
      "metadata": {
        "id": "LNVHD_U7CEJM"
      },
      "id": "LNVHD_U7CEJM"
    },
    {
      "cell_type": "code",
      "execution_count": null,
      "id": "9e0fe9f8",
      "metadata": {
        "id": "9e0fe9f8",
        "outputId": "2d35d9ce-fd93-4e9a-9be8-d8493417c6a3"
      },
      "outputs": [
        {
          "data": {
            "image/png": "[encoded data removed]",
            "text/plain": [
              "<Figure size 1200x600 with 1 Axes>"
            ]
          },
          "metadata": {},
          "output_type": "display_data"
        }
      ],
      "source": [
        "plt.figure(figsize=(12, 6))\n",
        "sns.histplot(final_df_adjusted['landmark_0'].apply(lambda x: x[0]), kde=True, color='blue')\n",
        "plt.title('Distribución de la característica landmark_0_x')\n",
        "plt.show()"
      ]
    },
    {
      "cell_type": "markdown",
      "source": [
        "# **Step 6:** Flatten the landmark data across frames.\n",
        "Converts each clip into a single row with all landmark coordinates across time."
      ],
      "metadata": {
        "id": "ikB6q_NaCSVC"
      },
      "id": "ikB6q_NaCSVC"
    },
    {
      "cell_type": "code",
      "execution_count": null,
      "id": "a74dded0",
      "metadata": {
        "id": "a74dded0",
        "outputId": "f44d4ee7-34a2-4e8e-9d37-706d6939eded"
      },
      "outputs": [
        {
          "name": "stderr",
          "output_type": "stream",
          "text": [
            "C:\\Users\\Angel\\AppData\\Local\\Temp\\ipykernel_9396\\3356132941.py:2: DeprecationWarning: DataFrameGroupBy.apply operated on the grouping columns. This behavior is deprecated, and in a future version of pandas the grouping columns will be excluded from the operation. Either pass `include_groups=False` to exclude the groupings or explicitly select the grouping columns after groupby to silence this warning.\n",
            "  final_df_adjusted = final_df.groupby('clip_id').apply(truncate_frames).reset_index(drop=True)\n"
          ]
        }
      ],
      "source": [
        "final_df_adjusted = final_df.groupby('clip_id').apply(truncate_frames).reset_index(drop=True)"
      ]
    },
    {
      "cell_type": "code",
      "execution_count": null,
      "id": "5fec092d",
      "metadata": {
        "id": "5fec092d"
      },
      "outputs": [],
      "source": [
        "meta_columns = [col for col in final_df_adjusted.columns if not col.startswith('landmark_')]\n",
        "\n",
        "flattened_rows = []\n",
        "\n",
        "for clip_id, group in final_df_adjusted.groupby('clip_id'):\n",
        "    row_dict = group.iloc[0][meta_columns].to_dict()\n",
        "\n",
        "    # Iterate over the 120 frames\n",
        "    for frame_idx, (_, frame) in enumerate(group.iterrows(), 1):  # frame_idx from 1 to 120\n",
        "        # Iterate on the 21 landmarks\n",
        "        for lm_idx in range(21):\n",
        "            coords = frame[f'landmark_{lm_idx}']  # This is a list [x,y,z]\n",
        "            # Save each coordinate as a separate feature\n",
        "            row_dict[f'landmark_{lm_idx}_frame_{frame_idx}_x'] = coords[0]\n",
        "            row_dict[f'landmark_{lm_idx}_frame_{frame_idx}_y'] = coords[1]\n",
        "            row_dict[f'landmark_{lm_idx}_frame_{frame_idx}_z'] = coords[2]\n",
        "\n",
        "    flattened_rows.append(row_dict)"
      ]
    },
    {
      "cell_type": "code",
      "execution_count": null,
      "id": "fb5e9bf4",
      "metadata": {
        "id": "fb5e9bf4",
        "outputId": "e544e79c-ab00-445d-a5ac-ad9a69b2de4e"
      },
      "outputs": [
        {
          "name": "stdout",
          "output_type": "stream",
          "text": [
            "          clip_id class_id signer_id     view  repetition  \\\n",
            "0  S1-J-frontal-1        J        S1  frontal           1   \n",
            "1  S1-J-frontal-2        J        S1  frontal           2   \n",
            "2  S1-J-frontal-3        J        S1  frontal           3   \n",
            "3  S1-J-frontal-4        J        S1  frontal           4   \n",
            "4  S1-J-frontal-5        J        S1  frontal           5   \n",
            "\n",
            "                                                path  split   fps  n_frames  \\\n",
            "0  ..\\..\\src\\datasets\\MSL-dynamic-signs\\train\\S1-...  train  30.0        62   \n",
            "1  ..\\..\\src\\datasets\\MSL-dynamic-signs\\train\\S1-...  train  30.0        48   \n",
            "2  ..\\..\\src\\datasets\\MSL-dynamic-signs\\train\\S1-...  train  30.0        62   \n",
            "3  ..\\..\\src\\datasets\\MSL-dynamic-signs\\train\\S1-...  train  30.0        63   \n",
            "4  ..\\..\\src\\datasets\\MSL-dynamic-signs\\train\\S1-...  train  30.0        76   \n",
            "\n",
            "   duration  ...  landmark_17_frame_120_z  landmark_18_frame_120_x  \\\n",
            "0  2.066667  ...                -0.792228                 0.580819   \n",
            "1  1.600000  ...                -0.202929                 0.835263   \n",
            "2  2.066667  ...                -0.527617                 0.634240   \n",
            "3  2.100000  ...                -0.208510                 0.581036   \n",
            "4  2.533333  ...                -0.199381                 0.484312   \n",
            "\n",
            "   landmark_18_frame_120_y  landmark_18_frame_120_z  landmark_19_frame_120_x  \\\n",
            "0                -1.460784                -0.790869                 0.500646   \n",
            "1                -1.785168                 0.021435                 0.788610   \n",
            "2                -1.482581                -0.450257                 0.562652   \n",
            "3                -1.542190                 0.026650                 0.495090   \n",
            "4                -1.596881                 0.019047                 0.402218   \n",
            "\n",
            "   landmark_19_frame_120_y  landmark_19_frame_120_z  landmark_20_frame_120_x  \\\n",
            "0                -1.665057                -1.073483                 0.440564   \n",
            "1                -2.015178                -0.065584                 0.795920   \n",
            "2                -1.702812                -0.662673                 0.518613   \n",
            "3                -1.756342                -0.006913                 0.458440   \n",
            "4                -1.823331                -0.012814                 0.366931   \n",
            "\n",
            "   landmark_20_frame_120_y  landmark_20_frame_120_z  \n",
            "0                -1.800629                -1.362944  \n",
            "1                -2.139041                -0.239980  \n",
            "2                -1.843678                -0.929512  \n",
            "3                -1.887096                -0.123153  \n",
            "4                -1.959870                -0.135486  \n",
            "\n",
            "[5 rows x 7577 columns]\n",
            "Pivoted DataFrame shape: (1108, 7577)\n"
          ]
        }
      ],
      "source": [
        "# Create Pivoted Final DataFrame\n",
        "pivot_df = pd.DataFrame(flattened_rows)\n",
        "\n",
        "print(pivot_df.head())\n",
        "print(f\"Pivoted DataFrame shape: {pivot_df.shape}\")"
      ]
    },
    {
      "cell_type": "code",
      "execution_count": null,
      "id": "8b70a2d8",
      "metadata": {
        "id": "8b70a2d8",
        "outputId": "c4984dae-d598-4b3a-bddf-ddbc246d1859"
      },
      "outputs": [
        {
          "name": "stdout",
          "output_type": "stream",
          "text": [
            "clips_features_flattened.csv generated with 1108 rows y 7577 columns\n"
          ]
        }
      ],
      "source": [
        "# Saving the flattened dataset to CSV for future use in modeling or analysis.\n",
        "pivot_df.to_csv('../../src/files/clips_features_flattened.csv', index=False)\n",
        "print(f\"clips_features_flattened.csv generated with {pivot_df.shape[0]} rows y {pivot_df.shape[1]} columns\")\n"
      ]
    },
    {
      "cell_type": "code",
      "execution_count": null,
      "id": "15b1b92a",
      "metadata": {
        "id": "15b1b92a",
        "outputId": "af7b04eb-36fa-4fea-dca1-ca4746417f39"
      },
      "outputs": [
        {
          "name": "stdout",
          "output_type": "stream",
          "text": [
            "          clip_id class_id signer_id     view  repetition  \\\n",
            "0  S1-J-frontal-1        J        S1  frontal           1   \n",
            "1  S1-J-frontal-2        J        S1  frontal           2   \n",
            "2  S1-J-frontal-3        J        S1  frontal           3   \n",
            "3  S1-J-frontal-4        J        S1  frontal           4   \n",
            "4  S1-J-frontal-5        J        S1  frontal           5   \n",
            "\n",
            "                                                path  split   fps  n_frames  \\\n",
            "0  ..\\..\\src\\datasets\\MSL-dynamic-signs\\train\\S1-...  train  30.0        62   \n",
            "1  ..\\..\\src\\datasets\\MSL-dynamic-signs\\train\\S1-...  train  30.0        48   \n",
            "2  ..\\..\\src\\datasets\\MSL-dynamic-signs\\train\\S1-...  train  30.0        62   \n",
            "3  ..\\..\\src\\datasets\\MSL-dynamic-signs\\train\\S1-...  train  30.0        63   \n",
            "4  ..\\..\\src\\datasets\\MSL-dynamic-signs\\train\\S1-...  train  30.0        76   \n",
            "\n",
            "   duration  ...                              landmark_11_frame_120  \\\n",
            "0  2.066667  ...  [0.7887094898199172, -1.7337228772705662, 0.21...   \n",
            "1  1.600000  ...  [0.9101386173416673, -2.0632923483074928, 0.77...   \n",
            "2  2.066667  ...  [0.7875042543423109, -1.7357888050030104, 0.49...   \n",
            "3  2.100000  ...  [0.5735713027291726, -1.8142887002843082, 0.56...   \n",
            "4  2.533333  ...  [0.5418610457060279, -1.8410342617135793, 0.64...   \n",
            "\n",
            "                               landmark_12_frame_120  \\\n",
            "0  [0.8410202617753694, -1.6645472377620705, 0.14...   \n",
            "1  [0.9868619356752443, -2.04586901017719, 0.5683...   \n",
            "2  [0.827099897307473, -1.6729057704820733, 0.389...   \n",
            "3  [0.6531170046765646, -1.789725105086454, 0.432...   \n",
            "4  [0.5984435852459902, -1.8077636609880636, 0.50...   \n",
            "\n",
            "                               landmark_13_frame_120  \\\n",
            "0  [0.5741107012922402, -1.2087272957247226, -0.4...   \n",
            "1  [0.7377551776220278, -1.4343021101004039, 0.21...   \n",
            "2  [0.5596253850158633, -1.1510783138643736, -0.2...   \n",
            "3  [0.4909746481412739, -1.1291042464186543, 0.14...   \n",
            "4  [0.40620456772369734, -1.2025546582449635, 0.1...   \n",
            "\n",
            "                               landmark_14_frame_120  \\\n",
            "0  [0.6206242386700455, -1.695319069211321, -0.29...   \n",
            "1  [0.8507665149107598, -1.9235366240546028, 0.50...   \n",
            "2  [0.6717259435912877, -1.6916320509585747, 0.04...   \n",
            "3  [0.5332596351327343, -1.7037222945111823, 0.40...   \n",
            "4  [0.48975209906266065, -1.7663868131383564, 0.4...   \n",
            "\n",
            "                               landmark_15_frame_120  \\\n",
            "0  [0.7744482916364593, -1.7622596542273938, -0.3...   \n",
            "1  [0.960180763570489, -2.108318391052928, 0.4205...   \n",
            "2  [0.8047099501572392, -1.7593037786793773, 0.06...   \n",
            "3  [0.6131083679609618, -1.880089101564411, 0.378...   \n",
            "4  [0.5697174311760985, -1.887520361312228, 0.529...   \n",
            "\n",
            "                               landmark_16_frame_120  \\\n",
            "0  [0.8556879539116374, -1.7156444915674198, -0.4...   \n",
            "1  [1.0542941349596164, -2.110805370283876, 0.222...   \n",
            "2  [0.862241450332124, -1.6932618889741036, -0.05...   \n",
            "3  [0.6932281902335674, -1.8870561705417868, 0.25...   \n",
            "4  [0.631859602737209, -1.845022372505757, 0.4624...   \n",
            "\n",
            "                               landmark_17_frame_120  \\\n",
            "0  [0.6974961101804257, -1.143635617607678, -0.79...   \n",
            "1  [0.8969384291739201, -1.4253243081593012, -0.2...   \n",
            "2  [0.7330271499052102, -1.1215820355567572, -0.5...   \n",
            "3  [0.6733317371310227, -1.1685439199071224, -0.2...   \n",
            "4  [0.563651119529601, -1.2188203477782307, -0.19...   \n",
            "\n",
            "                               landmark_18_frame_120  \\\n",
            "0  [0.5808191984986968, -1.4607836815942787, -0.7...   \n",
            "1  [0.8352632721477443, -1.7851676603176239, 0.02...   \n",
            "2  [0.6342398884167222, -1.482581476241671, -0.45...   \n",
            "3  [0.5810355540590326, -1.542190287255815, 0.026...   \n",
            "4  [0.4843124761850148, -1.5968812551223863, 0.01...   \n",
            "\n",
            "                               landmark_19_frame_120  \\\n",
            "0  [0.5006464484527974, -1.6650569632373127, -1.0...   \n",
            "1  [0.7886104678112136, -2.0151779152871674, -0.0...   \n",
            "2  [0.5626517736942549, -1.702811533489244, -0.66...   \n",
            "3  [0.49508953437152153, -1.756341824710676, -0.0...   \n",
            "4  [0.40221846678589374, -1.823330523659558, -0.0...   \n",
            "\n",
            "                               landmark_20_frame_120  \n",
            "0  [0.4405639359070075, -1.8006289142562129, -1.3...  \n",
            "1  [0.7959196563576428, -2.139041375824037, -0.23...  \n",
            "2  [0.5186134496691033, -1.8436780546620675, -0.9...  \n",
            "3  [0.4584399031661588, -1.8870958318729407, -0.1...  \n",
            "4  [0.36693119309390815, -1.9598702353701367, -0....  \n",
            "\n",
            "[5 rows x 2537 columns]\n",
            "Pivoted DataFrame shape: (1108, 2537)\n"
          ]
        }
      ],
      "source": [
        "flattened_rows = []\n",
        "\n",
        "for clip_id, group in final_df_adjusted.groupby('clip_id'):\n",
        "    row_dict = group.iloc[0][meta_columns].to_dict()\n",
        "    # Iterate over the frames\n",
        "    for frame_idx, (_, frame) in enumerate(group.iterrows(), 1):  # frame_idx from 1 to 120\n",
        "        # Iterate over the landmarks\n",
        "        for lm_idx in range(21):\n",
        "            # We save the complete list [x, y, z] without separating\n",
        "            row_dict[f'landmark_{lm_idx}_frame_{frame_idx}'] = frame[f'landmark_{lm_idx}']\n",
        "    flattened_rows.append(row_dict)\n",
        "\n",
        "# Create pivoted final DataFrame\n",
        "pivot_df = pd.DataFrame(flattened_rows)\n",
        "\n",
        "print(pivot_df.head())\n",
        "print(f\"Pivoted DataFrame shape: {pivot_df.shape}\")"
      ]
    },
    {
      "cell_type": "code",
      "execution_count": null,
      "id": "e401117b",
      "metadata": {
        "id": "e401117b",
        "outputId": "d4479ae3-4a86-4ff4-aaaf-672bccf785ca"
      },
      "outputs": [
        {
          "name": "stdout",
          "output_type": "stream",
          "text": [
            "clips_features_flattened_list.csv generated with 1108 rows y 2537 columns\n"
          ]
        }
      ],
      "source": [
        "# Save CSV\n",
        "pivot_df.to_csv('../../src/files/clips_features_flattened_list.csv', index=False)\n",
        "print(f\"clips_features_flattened_list.csv generated with {pivot_df.shape[0]} rows y {pivot_df.shape[1]} columns\")"
      ]
    },
    {
      "cell_type": "code",
      "execution_count": null,
      "id": "a72edb02",
      "metadata": {
        "id": "a72edb02"
      },
      "outputs": [],
      "source": [
        "n_components = 250  # Number of principal components you want"
      ]
    },
    {
      "cell_type": "code",
      "execution_count": null,
      "id": "eb74a5c6",
      "metadata": {
        "id": "eb74a5c6",
        "outputId": "ed21e66c-b4d4-4d9f-cad7-e0293751c498"
      },
      "outputs": [
        {
          "name": "stdout",
          "output_type": "stream",
          "text": [
            "          clip_id class_id signer_id     view  repetition  \\\n",
            "0  S1-J-frontal-1        J        S1  frontal           1   \n",
            "1  S1-J-frontal-2        J        S1  frontal           2   \n",
            "2  S1-J-frontal-3        J        S1  frontal           3   \n",
            "3  S1-J-frontal-4        J        S1  frontal           4   \n",
            "4  S1-J-frontal-5        J        S1  frontal           5   \n",
            "\n",
            "                                                path  split   fps  n_frames  \\\n",
            "0  ..\\..\\src\\datasets\\MSL-dynamic-signs\\train\\S1-...  train  30.0        62   \n",
            "1  ..\\..\\src\\datasets\\MSL-dynamic-signs\\train\\S1-...  train  30.0        48   \n",
            "2  ..\\..\\src\\datasets\\MSL-dynamic-signs\\train\\S1-...  train  30.0        62   \n",
            "3  ..\\..\\src\\datasets\\MSL-dynamic-signs\\train\\S1-...  train  30.0        63   \n",
            "4  ..\\..\\src\\datasets\\MSL-dynamic-signs\\train\\S1-...  train  30.0        76   \n",
            "\n",
            "   duration  ...                  landmark_11_frame_120  \\\n",
            "0  2.066667  ...  [ 0.78870949 -1.73372288  0.21315523]   \n",
            "1  1.600000  ...  [ 0.91013862 -2.06329235  0.77265702]   \n",
            "2  2.066667  ...  [ 0.78750425 -1.73578881  0.49341717]   \n",
            "3  2.100000  ...  [ 0.5735713  -1.8142887   0.56804473]   \n",
            "4  2.533333  ...  [ 0.54186105 -1.84103426  0.64448617]   \n",
            "\n",
            "                   landmark_12_frame_120  \\\n",
            "0  [ 0.84102026 -1.66454724  0.14744597]   \n",
            "1  [ 0.98686194 -2.04586901  0.56836162]   \n",
            "2  [ 0.8270999  -1.67290577  0.38933374]   \n",
            "3  [ 0.653117   -1.78972511  0.43296601]   \n",
            "4  [ 0.59844359 -1.80776366  0.50560312]   \n",
            "\n",
            "                   landmark_13_frame_120  \\\n",
            "0  [ 0.5741107  -1.2087273  -0.43780536]   \n",
            "1  [ 0.73775518 -1.43430211  0.21387093]   \n",
            "2  [ 0.55962539 -1.15107831 -0.21331659]   \n",
            "3  [ 0.49097465 -1.12910425  0.14158854]   \n",
            "4  [ 0.40620457 -1.20255466  0.13911963]   \n",
            "\n",
            "                   landmark_14_frame_120  \\\n",
            "0  [ 0.62062424 -1.69531907 -0.29007827]   \n",
            "1  [ 0.85076651 -1.92353662  0.50002416]   \n",
            "2  [ 0.67172594 -1.69163205  0.04574806]   \n",
            "3  [ 0.53325964 -1.70372229  0.40006864]   \n",
            "4  [ 0.4897521  -1.76638681  0.43668314]   \n",
            "\n",
            "                   landmark_15_frame_120  \\\n",
            "0  [ 0.77444829 -1.76225965 -0.33709959]   \n",
            "1  [ 0.96018076 -2.10831839  0.42058054]   \n",
            "2  [ 0.80470995 -1.75930378  0.06972047]   \n",
            "3  [ 0.61310837 -1.8800891   0.37859082]   \n",
            "4  [ 0.56971743 -1.88752036  0.52939207]   \n",
            "\n",
            "                   landmark_16_frame_120  \\\n",
            "0  [ 0.85568795 -1.71564449 -0.44606124]   \n",
            "1  [ 1.05429413 -2.11080537  0.22280449]   \n",
            "2  [ 0.86224145 -1.69326189 -0.05232564]   \n",
            "3  [ 0.69322819 -1.88705617  0.25494865]   \n",
            "4  [ 0.6318596  -1.84502237  0.46246382]   \n",
            "\n",
            "                   landmark_17_frame_120  \\\n",
            "0  [ 0.69749611 -1.14363562 -0.79222818]   \n",
            "1  [ 0.89693843 -1.42532431 -0.20292879]   \n",
            "2  [ 0.73302715 -1.12158204 -0.52761698]   \n",
            "3  [ 0.67333174 -1.16854392 -0.20850986]   \n",
            "4  [ 0.56365112 -1.21882035 -0.19938074]   \n",
            "\n",
            "                   landmark_18_frame_120  \\\n",
            "0  [ 0.5808192  -1.46078368 -0.79086872]   \n",
            "1  [ 0.83526327 -1.78516766  0.02143548]   \n",
            "2  [ 0.63423989 -1.48258148 -0.45025677]   \n",
            "3  [ 0.58103555 -1.54219029  0.02664986]   \n",
            "4  [ 0.48431248 -1.59688126  0.01904725]   \n",
            "\n",
            "                   landmark_19_frame_120  \\\n",
            "0  [ 0.50064645 -1.66505696 -1.07348254]   \n",
            "1  [ 0.78861047 -2.01517792 -0.06558368]   \n",
            "2  [ 0.56265177 -1.70281153 -0.66267308]   \n",
            "3  [ 0.49508953 -1.75634182 -0.00691307]   \n",
            "4  [ 0.40221847 -1.82333052 -0.01281358]   \n",
            "\n",
            "                   landmark_20_frame_120  \n",
            "0  [ 0.44056394 -1.80062891 -1.36294381]  \n",
            "1  [ 0.79591966 -2.13904138 -0.23997971]  \n",
            "2  [ 0.51861345 -1.84367805 -0.92951193]  \n",
            "3  [ 0.4584399  -1.88709583 -0.12315305]  \n",
            "4  [ 0.36693119 -1.95987024 -0.13548617]  \n",
            "\n",
            "[5 rows x 2537 columns]\n"
          ]
        }
      ],
      "source": [
        "# --------------------------\n",
        "# Process clips_features_flattened_list.csv\n",
        "# --------------------------\n",
        "df_list = pd.read_csv('../../src/files/clips_features_flattened_list.csv')\n",
        "print(df_list.head())"
      ]
    },
    {
      "cell_type": "code",
      "execution_count": null,
      "id": "453e2a03",
      "metadata": {
        "id": "453e2a03"
      },
      "outputs": [],
      "source": [
        "# Columns meta\n",
        "meta_columns = [col for col in df_list.columns if not col.startswith('landmark_')]\n",
        "# Columns landmarks\n",
        "landmark_columns = [col for col in df_list.columns if col.startswith('landmark_')]"
      ]
    },
    {
      "cell_type": "markdown",
      "source": [
        "After flattening the frame-based data for each clip, creating a pivoted DataFrame is crucial to consolidate all the features for a single clip into a single row. Each row in the final pivoted DataFrame represents one complete video clip, and the columns represent all the flattened landmark coordinates across all the frames, along with the original metadata for the clip. This structure is the standard input format for most machine learning algorithms."
      ],
      "metadata": {
        "id": "P0KkmQGmMXzg"
      },
      "id": "P0KkmQGmMXzg"
    },
    {
      "cell_type": "markdown",
      "source": [
        "# **Step 7:** Apply PCA to reduce dimensionality of the flattened list format.\n",
        "Converts 2537 features into 250 principal components."
      ],
      "metadata": {
        "id": "T7cxsTBtDYHD"
      },
      "id": "T7cxsTBtDYHD"
    },
    {
      "cell_type": "code",
      "execution_count": null,
      "id": "9e297b82",
      "metadata": {
        "id": "9e297b82",
        "outputId": "202bd2bf-7568-447c-a724-4a685df9d5cd"
      },
      "outputs": [
        {
          "name": "stderr",
          "output_type": "stream",
          "text": [
            "C:\\Users\\Angel\\AppData\\Local\\Temp\\ipykernel_9396\\2063592292.py:4: DeprecationWarning: string or file could not be read to its end due to unmatched data; this will raise a ValueError in the future.\n",
            "  coords_array = df_list[col].apply(lambda x: np.fromstring(x.strip('[]'), sep=',') if isinstance(x, str) else np.array(x)).to_list()\n"
          ]
        }
      ],
      "source": [
        "# Convert lists [x,y,z] of columns to array\n",
        "expanded_data = []\n",
        "for col in landmark_columns:\n",
        "    coords_array = df_list[col].apply(lambda x: np.fromstring(x.strip('[]'), sep=',') if isinstance(x, str) else np.array(x)).to_list()\n",
        "    expanded_data.append(np.vstack(coords_array))\n",
        "X_list = np.hstack(expanded_data)"
      ]
    },
    {
      "cell_type": "markdown",
      "source": [
        "Principal Component Analysis (PCA) was chosen for dimensionality reduction for several key reasons:\n",
        "\n",
        "1.  **Reducing the Curse of Dimensionality**: The flattened landmark data has a very high number of features (7577 columns). High-dimensional data can lead to increased computational complexity, longer training times, and a higher risk of overfitting in machine learning models. PCA helps mitigate this by transforming the data into a lower-dimensional space while retaining most of the variance.\n",
        "\n",
        "2.  **Noise Reduction**: High-dimensional data often contains noise. PCA filters out some of this noise by focusing on the components that capture the most significant variance in the data.\n",
        "\n",
        "3.  **Improving Model Performance**: By reducing the number of features and potentially removing noise, PCA can lead to simpler models that are less prone to overfitting and may generalize better to unseen data. This can result in improved model accuracy and efficiency.\n",
        "\n",
        "4.  **Visualisation**: Although not explicitly shown, PCA can be useful for visualizing high-dimensional data in 2 or 3 dimensions, which can help in understanding the data structure and identifying patterns.\n",
        "\n",
        "In this specific case, with 7577 features in the flattened data, PCA provides a powerful method to significantly reduce the feature space to a more manageable size (250 components) while aiming to preserve the most important information for subsequent analysis or modeling."
      ],
      "metadata": {
        "id": "MRFgrDenJvkj"
      },
      "id": "MRFgrDenJvkj"
    },
    {
      "cell_type": "code",
      "execution_count": null,
      "id": "e1d556c5",
      "metadata": {
        "id": "e1d556c5",
        "outputId": "5b5f05d4-5ccf-4ead-dc8b-adeec8e173f2"
      },
      "outputs": [
        {
          "name": "stdout",
          "output_type": "stream",
          "text": [
            "../../src/files/clips_features_flattened_list_pca.csv generated with 1108 rows y 267 columns\n"
          ]
        }
      ],
      "source": [
        "\n",
        "# Saving PCA-transformed dataset for efficient model training.\n",
        "\n",
        "pca = PCA(n_components=n_components)\n",
        "X_list_pca = pca.fit_transform(X_list)\n",
        "\n",
        "# Create DataFrame of PCA\n",
        "pca_columns = [f'PCA_{i+1}' for i in range(n_components)]\n",
        "pca_df_list = pd.DataFrame(X_list_pca, columns=pca_columns)\n",
        "\n",
        "# Concatenate metadata\n",
        "final_df_list = pd.concat([df_list[meta_columns].reset_index(drop=True), pca_df_list], axis=1)\n",
        "\n",
        "# Save CSV\n",
        "final_df_list.to_csv('../../src/files/clips_features_flattened_list_pca.csv', index=False)\n",
        "print(f\"../../src/files/clips_features_flattened_list_pca.csv generated with {final_df_list.shape[0]} rows y {final_df_list.shape[1]} columns\")"
      ]
    },
    {
      "cell_type": "code",
      "execution_count": null,
      "id": "16118111",
      "metadata": {
        "id": "16118111",
        "outputId": "ad151b9e-3a35-4796-9c25-de963c8cc3bc"
      },
      "outputs": [
        {
          "name": "stdout",
          "output_type": "stream",
          "text": [
            "          clip_id class_id signer_id     view  repetition  \\\n",
            "0  S1-J-frontal-1        J        S1  frontal           1   \n",
            "1  S1-J-frontal-2        J        S1  frontal           2   \n",
            "2  S1-J-frontal-3        J        S1  frontal           3   \n",
            "3  S1-J-frontal-4        J        S1  frontal           4   \n",
            "4  S1-J-frontal-5        J        S1  frontal           5   \n",
            "\n",
            "                                                path  split   fps  n_frames  \\\n",
            "0  ..\\..\\src\\datasets\\MSL-dynamic-signs\\train\\S1-...  train  30.0        62   \n",
            "1  ..\\..\\src\\datasets\\MSL-dynamic-signs\\train\\S1-...  train  30.0        48   \n",
            "2  ..\\..\\src\\datasets\\MSL-dynamic-signs\\train\\S1-...  train  30.0        62   \n",
            "3  ..\\..\\src\\datasets\\MSL-dynamic-signs\\train\\S1-...  train  30.0        63   \n",
            "4  ..\\..\\src\\datasets\\MSL-dynamic-signs\\train\\S1-...  train  30.0        76   \n",
            "\n",
            "   duration  ...  landmark_17_frame_120_z  landmark_18_frame_120_x  \\\n",
            "0  2.066667  ...                -0.792228                 0.580819   \n",
            "1  1.600000  ...                -0.202929                 0.835263   \n",
            "2  2.066667  ...                -0.527617                 0.634240   \n",
            "3  2.100000  ...                -0.208510                 0.581036   \n",
            "4  2.533333  ...                -0.199381                 0.484312   \n",
            "\n",
            "   landmark_18_frame_120_y  landmark_18_frame_120_z  landmark_19_frame_120_x  \\\n",
            "0                -1.460784                -0.790869                 0.500646   \n",
            "1                -1.785168                 0.021435                 0.788610   \n",
            "2                -1.482581                -0.450257                 0.562652   \n",
            "3                -1.542190                 0.026650                 0.495090   \n",
            "4                -1.596881                 0.019047                 0.402218   \n",
            "\n",
            "   landmark_19_frame_120_y  landmark_19_frame_120_z  landmark_20_frame_120_x  \\\n",
            "0                -1.665057                -1.073483                 0.440564   \n",
            "1                -2.015178                -0.065584                 0.795920   \n",
            "2                -1.702812                -0.662673                 0.518613   \n",
            "3                -1.756342                -0.006913                 0.458440   \n",
            "4                -1.823331                -0.012814                 0.366931   \n",
            "\n",
            "   landmark_20_frame_120_y  landmark_20_frame_120_z  \n",
            "0                -1.800629                -1.362944  \n",
            "1                -2.139041                -0.239980  \n",
            "2                -1.843678                -0.929512  \n",
            "3                -1.887096                -0.123153  \n",
            "4                -1.959870                -0.135486  \n",
            "\n",
            "[5 rows x 7577 columns]\n"
          ]
        }
      ],
      "source": [
        "# --------------------------\n",
        "# Process clips_features_flattened.csv\n",
        "# --------------------------\n",
        "df_flat = pd.read_csv('../../src/files/clips_features_flattened.csv')\n",
        "print(df_flat.head())"
      ]
    },
    {
      "cell_type": "markdown",
      "source": [
        "# **Step 8:** Apply PCA to the flattened format with separated x/y/z columns.\n",
        "Reduces 7577 features to 250 components."
      ],
      "metadata": {
        "id": "6VKQ986CDnOl"
      },
      "id": "6VKQ986CDnOl"
    },
    {
      "cell_type": "code",
      "execution_count": null,
      "id": "93414271",
      "metadata": {
        "id": "93414271"
      },
      "outputs": [],
      "source": [
        "# Columns meta\n",
        "meta_columns_flat = [col for col in df_flat.columns if not col.startswith('landmark_')]\n",
        "# Columns landmarks (x,y,z)\n",
        "landmark_columns_flat = [col for col in df_flat.columns if col.startswith('landmark_')]\n",
        "X_flat = df_flat[landmark_columns_flat].values"
      ]
    },
    {
      "cell_type": "code",
      "execution_count": null,
      "id": "0fbd568f",
      "metadata": {
        "id": "0fbd568f",
        "outputId": "ecc12362-6770-4e9c-e645-c88c1380bdda"
      },
      "outputs": [
        {
          "name": "stdout",
          "output_type": "stream",
          "text": [
            "clips_features_flattened_pca.csv generated with 1108 rows y 267 columns\n"
          ]
        }
      ],
      "source": [
        "# Saving PCA-transformed dataset with separated coordinates.\n",
        "\n",
        "pca_flat = PCA(n_components=n_components)\n",
        "X_flat_pca = pca_flat.fit_transform(X_flat)\n",
        "\n",
        "# Create PCA DataFrame\n",
        "pca_columns_flat = [f'PCA_{i+1}' for i in range(n_components)]\n",
        "pca_df_flat = pd.DataFrame(X_flat_pca, columns=pca_columns_flat)\n",
        "\n",
        "# Concatenate metadata\n",
        "final_df_flat = pd.concat([df_flat[meta_columns_flat].reset_index(drop=True), pca_df_flat], axis=1)\n",
        "\n",
        "# Save CSV\n",
        "final_df_flat.to_csv('../../src/files/clips_features_flattened_pca.csv', index=False)\n",
        "print(f\"clips_features_flattened_pca.csv generated with {final_df_flat.shape[0]} rows y {final_df_flat.shape[1]} columns\")\n"
      ]
    },
    {
      "cell_type": "markdown",
      "source": [
        "# Conclusion\n",
        "\n",
        "This notebook performs structured feature engineering on dynamic sign language clips using hand landmarks. The process includes:\n",
        "\n",
        "1. **Normalization** of 3D coordinates to ensure consistent scale.\n",
        "2. **Restructuring** landmarks into grouped columns for clarity.\n",
        "3. **Frame truncation** to standardize clip length at 120 frames.\n",
        "4. **Flattening** the temporal data to create a single-row representation per clip.\n",
        "5. **Dimensionality reduction** via PCA to optimize for model efficiency.\n",
        "\n",
        "These steps are essential to prepare high-dimensional temporal data for machine learning tasks such as gesture classification. By ensuring uniformity, reducing noise, and compressing features, we enable robust and scalable modeling.\n",
        "\n",
        "The final outputs include:\n",
        "- A flattened dataset with full temporal resolution.\n",
        "- Two PCA-reduced datasets for modeling efficiency.\n",
        "\n",
        "This pipeline supports future integration with classifiers and deep learning models, and is designed to be reproducible, interpretable, and scalable.\n"
      ],
      "metadata": {
        "id": "hD9JjhDgDzTN"
      },
      "id": "hD9JjhDgDzTN"
    }
  ],
  "metadata": {
    "kernelspec": {
      "display_name": "Python 3",
      "language": "python",
      "name": "python3"
    },
    "language_info": {
      "codemirror_mode": {
        "name": "ipython",
        "version": 3
      },
      "file_extension": ".py",
      "mimetype": "text/x-python",
      "name": "python",
      "nbconvert_exporter": "python",
      "pygments_lexer": "ipython3",
      "version": "3.13.3"
    },
    "colab": {
      "provenance": []
    }
  },
  "nbformat": 4,
  "nbformat_minor": 5
}